{
 "cells": [
  {
   "cell_type": "markdown",
   "metadata": {},
   "source": [
    "Oulu_NLPTM_TwitterBrexit"
   ]
  },
  {
   "cell_type": "code",
   "execution_count": 1,
   "metadata": {},
   "outputs": [
    {
     "name": "stderr",
     "output_type": "stream",
     "text": [
      "[nltk_data] Downloading package stopwords to\n",
      "[nltk_data]     C:\\Users\\MSI\\AppData\\Roaming\\nltk_data...\n",
      "[nltk_data]   Package stopwords is already up-to-date!\n",
      "[nltk_data] Downloading package punkt to\n",
      "[nltk_data]     C:\\Users\\MSI\\AppData\\Roaming\\nltk_data...\n",
      "[nltk_data]   Package punkt is already up-to-date!\n",
      "[nltk_data] Downloading package wordnet to\n",
      "[nltk_data]     C:\\Users\\MSI\\AppData\\Roaming\\nltk_data...\n",
      "[nltk_data]   Package wordnet is already up-to-date!\n",
      "[nltk_data] Downloading package averaged_perceptron_tagger to\n",
      "[nltk_data]     C:\\Users\\MSI\\AppData\\Roaming\\nltk_data...\n",
      "[nltk_data]   Package averaged_perceptron_tagger is already up-to-\n",
      "[nltk_data]       date!\n"
     ]
    },
    {
     "data": {
      "text/plain": [
       "True"
      ]
     },
     "execution_count": 1,
     "metadata": {},
     "output_type": "execute_result"
    }
   ],
   "source": [
    "import nltk\n",
    "nltk.download('stopwords')\n",
    "nltk.download('punkt')\n",
    "nltk.download('wordnet')\n",
    "nltk.download('averaged_perceptron_tagger')\n"
   ]
  },
  {
   "cell_type": "code",
   "execution_count": 2,
   "metadata": {},
   "outputs": [],
   "source": [
    "import os\n",
    "import tweepy as tw\n",
    "import pandas as pd\n",
    "import numpy as np\n",
    "\n",
    "import seaborn as sns\n",
    "sns.set_style('whitegrid')\n",
    "import re\n",
    "import string\n",
    "from unidecode import unidecode\n",
    "\n",
    "from sklearn.decomposition import LatentDirichletAllocation as LDA\n",
    "from sklearn.feature_extraction.text import CountVectorizer\n",
    "\n",
    "\n",
    "import preprocessor as p\n",
    "from typing import List\n",
    "from nltk.corpus import stopwords\n",
    "from nltk.tokenize import word_tokenize\n",
    "from nltk import tokenize\n",
    "\n",
    "from nltk.stem import PorterStemmer\n",
    "from nltk.stem import WordNetLemmatizer \n",
    "\n",
    "from textblob import TextBlob\n",
    "\n",
    "import sys\n",
    "sys.path.insert(0, '../config')\n",
    "\n",
    "from twitter_dev_access import *\n",
    "\n",
    "\n",
    "# Global Parameters\n",
    "stop_words = set(stopwords.words('english'))\n",
    "\n",
    "# amount of tweets collected is tweets_per_page * no_of_pages \n",
    "# note that retweets will be directly removed, but are still considered to this number\n",
    "tweets_per_page = 100 # max 200\n",
    "no_of_pages = 12"
   ]
  },
  {
   "cell_type": "code",
   "execution_count": 3,
   "metadata": {},
   "outputs": [],
   "source": [
    "# access twitter\n",
    "auth = tw.OAuthHandler(consumer_key, consumer_secret)\n",
    "auth.set_access_token(access_token, access_token_secret)\n",
    "api = tw.API(auth, wait_on_rate_limit=True)\n"
   ]
  },
  {
   "cell_type": "code",
   "execution_count": 4,
   "metadata": {},
   "outputs": [],
   "source": [
    "conservatives = ['@BorisJohnson', '@theresa_may']\n",
    "conservative_house_of_commons = ['@nadams', '@BimAfolami', '@AdamAfriyie', '@imranahmadkhan', '@peter_aldous',\n",
    "                                 '@lucyallan', '@amessd_southend', '@Stuart4WolvesSW', '@Caroline_Ansell',\n",
    "                                 '@AthertonNWales', '@GarethBaconMP', '@richardbaconmp', '@KemiBadenoch',\n",
    "                                 '@ShaunBaileyUK', '@Siobhan_Baillie']\n",
    "conservatives.extend(conservative_house_of_commons)\n",
    "labour = ['@HackneyAbbott', '@Debbie_abrahams', '@rushanaraali', '@TahirAliMP', '@DrRosena', '@MikeAmesburyMP',\n",
    "          '@PutneyFleur', '@ToniaAntoniazzi', '@JonAshworth', '@PaulaBarkerMP', '@ApsanaBegumMP', '@hilarybennmp',\n",
    "          '@_OliviaBlake', '@PaulBlomfieldMP', '@TracyBrabin', '@BenPBradshaw', '@KevinBrennanMP', '@lynbrownmp']"
   ]
  },
  {
   "cell_type": "code",
   "execution_count": 5,
   "metadata": {},
   "outputs": [],
   "source": [
    "def collect_tweets(twitterusers):\n",
    "    tweet_list = []\n",
    "\n",
    "    for twitter_name in twitterusers:\n",
    "        print('collecting tweets from ' + twitter_name)\n",
    "        \n",
    "        # get tweets for user, exlude retweets and get full tweet content\n",
    "        pages = tw.Cursor(api.user_timeline, screen_name=twitter_name, include_rts=False, tweet_mode=\"extended\",\n",
    "                          count=tweets_per_page).pages(no_of_pages)\n",
    "        \n",
    "        # get tweets from pages\n",
    "        tweet_texts = [tweet.full_text for page in pages for tweet in page]\n",
    "\n",
    "        print('Collected ' + str(len(tweet_texts)) + ' tweets from ' + twitter_name)\n",
    "\n",
    "        # only add newest 100 tweets to tweet list\n",
    "        tweet_list.extend(tweet_texts[:1000])\n",
    "    \n",
    "    print('All tweets collected for this party: '+ str(len(tweet_list)))\n",
    "    \n",
    "    return tweet_list"
   ]
  },
  {
   "cell_type": "code",
   "execution_count": 8,
   "metadata": {},
   "outputs": [],
   "source": [
    "def tweet_preprocessor(tweets: List[str])->List[str]:\n",
    "    tweets_cleaned = []\n",
    "    for tweet in tweets :\n",
    "        tweets_cleaned.append(p.clean(tweet))\n",
    "        \n",
    "    return tweets_cleaned\n",
    "\n",
    "def listToString(s):  \n",
    "    str1 = \"\"  \n",
    "    \n",
    "    for ele in s:  \n",
    "        str1 += ele   \n",
    "    \n",
    "    return str1  "
   ]
  },
  {
   "cell_type": "code",
   "execution_count": 19,
   "metadata": {},
   "outputs": [],
   "source": [
    "\n",
    "def clean(tweet, method='stemming'):\n",
    "    # adapted from https://www.pluralsight.com/guides/building-a-twitter-sentiment-analysis-in-python\n",
    "    tweet = tweet.lower()\n",
    "    \n",
    "    # Remove unicode characters (emotes etc)\n",
    "    tweet = unidecode(tweet)\n",
    "    \n",
    "    # Remove urls\n",
    "    tweet = re.sub(r\"http\\S+|www\\S+|https\\S+\", '', tweet, flags=re.MULTILINE)\n",
    "    # Remove user @ references and '#' from tweet\n",
    "    tweet = re.sub(r'\\@\\w+|\\#','', tweet)\n",
    "    # Remove html encodings like &amp;\n",
    "    tweet = re.sub(r'&\\w+;','', tweet)\n",
    "    # Remove punctuations\n",
    "    tweet = tweet.translate(str.maketrans('', '', string.punctuation))\n",
    "    \n",
    "    # Remove stopwords\n",
    "    tweet_tokens = word_tokenize(tweet)\n",
    "    filtered_words = [w for w in tweet_tokens if not w in stop_words]\n",
    "    \n",
    "    # use stemmer\n",
    "    if method=='stemming':\n",
    "        ps = PorterStemmer()\n",
    "        stemmed_words = [ps.stem(w) for w in filtered_words]\n",
    "    \n",
    "        return \" \".join(stemmed_words)\n",
    "    elif method=='lemmantization':\n",
    "        lemmantizer = WordNetLemmatizer()\n",
    "        lemm_words = [lemmantizer.lemmatize(w) for w in filtered_words]\n",
    "        return \" \".join(lemm_words)\n",
    "    else :\n",
    "        print('Error ! please provide a correct method')\n",
    "    "
   ]
  },
  {
   "cell_type": "code",
   "execution_count": 10,
   "metadata": {},
   "outputs": [],
   "source": [
    "\n",
    "def store(tweet_list, filename):\n",
    "    with open(filename, 'w') as f:\n",
    "        for tweet in tweet_list:\n",
    "            f.write(\"%s\\n\" % tweet)\n",
    "    print(f\"saved tweets to {filename}\")"
   ]
  },
  {
   "cell_type": "code",
   "execution_count": 7,
   "metadata": {},
   "outputs": [
    {
     "name": "stdout",
     "output_type": "stream",
     "text": [
      "collecting tweets from @BorisJohnson\n",
      "Collected 872 tweets from @BorisJohnson\n",
      "collecting tweets from @theresa_may\n",
      "Collected 681 tweets from @theresa_may\n",
      "collecting tweets from @nadams\n",
      "Collected 658 tweets from @nadams\n",
      "collecting tweets from @BimAfolami\n",
      "Collected 314 tweets from @BimAfolami\n",
      "collecting tweets from @AdamAfriyie\n",
      "Collected 1194 tweets from @AdamAfriyie\n",
      "collecting tweets from @imranahmadkhan\n",
      "Collected 381 tweets from @imranahmadkhan\n",
      "collecting tweets from @peter_aldous\n",
      "Collected 817 tweets from @peter_aldous\n",
      "collecting tweets from @lucyallan\n",
      "Collected 662 tweets from @lucyallan\n",
      "collecting tweets from @amessd_southend\n",
      "Collected 982 tweets from @amessd_southend\n",
      "collecting tweets from @Stuart4WolvesSW\n",
      "Collected 654 tweets from @Stuart4WolvesSW\n",
      "collecting tweets from @Caroline_Ansell\n",
      "Collected 570 tweets from @Caroline_Ansell\n",
      "collecting tweets from @AthertonNWales\n",
      "Collected 871 tweets from @AthertonNWales\n",
      "collecting tweets from @GarethBaconMP\n",
      "Collected 248 tweets from @GarethBaconMP\n",
      "collecting tweets from @richardbaconmp\n",
      "Collected 25 tweets from @richardbaconmp\n",
      "collecting tweets from @KemiBadenoch\n",
      "Collected 472 tweets from @KemiBadenoch\n",
      "collecting tweets from @ShaunBaileyUK\n",
      "Collected 947 tweets from @ShaunBaileyUK\n",
      "collecting tweets from @Siobhan_Baillie\n",
      "Collected 448 tweets from @Siobhan_Baillie\n",
      "All tweets collected for this party: 10602\n"
     ]
    }
   ],
   "source": [
    "conservatives_tweets = collect_tweets(conservatives)"
   ]
  },
  {
   "cell_type": "code",
   "execution_count": 26,
   "metadata": {
    "scrolled": true
   },
   "outputs": [
    {
     "name": "stdout",
     "output_type": "stream",
     "text": [
      "['Great call with my friend @ScottMorrisonMP this morning. Whether it’s boosting trade between great nations or developing cutting-edge technology to tackle climate change - the UK and Australia are partners in building back better from coronavirus.  🇬🇧🇦🇺', 'Fantastic to visit the Royal Berkshire Hospital with @PrueLeith today, taking forward her recommendations to improve food in our hospitals. An important step to improve our long-term health. https://t.co/FqzEt3tuHH', 'Great to see Japan’s commitment to reach #NetZero by 2050. I look forward to working closely with Prime Minister @sugawitter and @JapanGov to tackle climate change in the run up to @COP26 in Glasgow next year 🇬🇧🇯🇵', 'A historic moment as we formally sign the UK-Japan Comprehensive Economic Partnership Agreement, marking a new era of friendship between our nations. 🇬🇧🇯🇵\\n\\nThis will bring extraordinary opportunities to the UK – boosting jobs and prosperity for businesses and consumers. https://t.co/9e31VWz3ru', 'We will not let these difficult times stop us from doing proper honour to those who gave their lives for our freedom and safety.\\n\\nMake sure you buy a poppy this year - be it online or at the supermarket - to support the families of those who have given so much.\\n\\n#EveryPoppyCounts https://t.co/kCnLOvShNE', 'Brilliant news that there are now 13,718 more nurses and 7,810 more doctors than a year ago - these figures show we’re on course to keep our manifesto commitments. And thank you to the incredible NHS staff who are always there for us, especially in this difficult time. https://t.co/vG56HjskQj', 'We need to protect jobs, protect livelihoods and put the UK in the strongest position for an economic recovery. https://t.co/cjBVvbB23s', 'WATCH LIVE: An update on coronavirus (22 October 2020) https://t.co/rHRD71Km5t', \"We are wrapping our arms around the country to give people the support they need to get through this.\\n\\nThat's why @RishiSunak is extending the Job Support Scheme, giving the self-employed more assistance &amp; expanding business grants to support companies in high-alert level areas. https://t.co/WN4EdYmlKA\", 'Keeping active this year has been challenging for all of us.\\n\\nThanks to everyone who is working tirelessly to help run activities &amp; sports in these trying times and well done to those who are out there taking part. Keep going! https://t.co/38Ttf5fzPG', 'Great to meet some of our Black service personnel yesterday. A reminder during #BlackHistoryMonth that many Black Britons fighting for🇬🇧were never recognised for their service.\\n\\nBlack history is our history - and Britain has been made all the greater for it. https://t.co/1gYJfUG3K1', 'WATCH LIVE: An update on coronavirus. (20 October 2020) https://t.co/ZgJZoPBM2C', 'Congratulations @jacindaardern for winning a second term as New Zealand PM. From our work together to tackle climate change to forging an exciting new trade partnership, the UK and NZ have great things to look forward to in the future.', 'Over the next few weeks, new rapid COVID-19 tests will be trialled across the country. This will enable us to test NHS and care home staff much more frequently. https://t.co/suIjMhUCt1', 'WATCH LIVE: An update on coronavirus. (16 October 2020) https://t.co/TrPvFPQDnf', 'My update on our negotiations with the EU.\\n\\nhttps://t.co/1yPBFWgxcn', 'Good to meet with @Minette_Batters today. I will always support our fantastic farmers, who have worked tirelessly during the pandemic to keep our country fed. Outside the EU we now have the chance to get a better, fairer deal for Britain’s food and farming sector. https://t.co/tf6KtWx2UR', 'We’re simplifying and standardising local rules in England by introducing three Local COVID Alert levels, with each level accompanied by proportionate restrictions. \\n\\nFind out the Local COVID Alert level in your area with the postcode checker: https://t.co/D0fLdDshoe https://t.co/QppGV1Uj94', 'WATCH LIVE: An update on coronavirus (12 October 2020) https://t.co/hyzM4BhQNT', 'There is a real risk of a lost generation of girls never returning to school. We cannot let that happen.\\n \\nOur global recovery from the pandemic must leave no one behind. \\n \\nOn #DayOfTheGirl I urge global action to stand up for every girl’s right to 12 years of quality education.']\n"
     ]
    }
   ],
   "source": [
    "print(conservatives_tweets[:20])"
   ]
  },
  {
   "cell_type": "code",
   "execution_count": 20,
   "metadata": {},
   "outputs": [],
   "source": [
    "cleaned_conservative = [clean(tweet, method='lemmantization') for tweet in conservatives_tweets]"
   ]
  },
  {
   "cell_type": "code",
   "execution_count": 97,
   "metadata": {},
   "outputs": [
    {
     "name": "stdout",
     "output_type": "stream",
     "text": [
      "['watch live updat coronaviru 20 octob 2020', 'congratul win second term new zealand pm work togeth tackl climat chang forg excit new trade partnership uk nz great thing look forward futur', 'next week new rapid covid19 test triall across countri enabl us test nh care home staff much frequent', 'watch live updat coronaviru 16 octob 2020', 'updat negoti eu', 'good meet today alway support fantast farmer work tirelessli pandem keep countri fed outsid eu chanc get better fairer deal britain ’ food farm sector', '’ simplifi standardis local rule england introduc three local covid alert level level accompani proportion restrict find local covid alert level area postcod checker', 'watch live updat coronaviru 12 octob 2020', 'real risk lost gener girl never return school let happen global recoveri pandem must leav one behind dayofthegirl urg global action stand everi girl ’ right 12 year qualiti educ', 'today recognis local often unsung hero whose hard work dedic help carri us pandem care compass resolv truli testament sort countri congratul honour recipi', '“ measur friendship show bad weather ” sir winston churchil let ’ show famili friend colleagu commun weather storm togeth worldmentalhealthday', 'congratul win year ’ nobel peac prize uk 🇬🇧 proud support lifesav work fight hunger famin worldwid nobelpeacepr', 'fantast initi bring togeth brightest mind find solut world ’ greatest environment problem', 'uk ukrain ’ fervent support whether ’ defenc support stabilis effort humanitarian assist close cooper polit issu messag clear – utterli commit uphold ukrain sovereignti territori integr', 'pandem local region nation newspap prove indispens keep commun reliabl inform urg everyon support journal matter campaign journalismmatt', 'take tough decis save live protect nh pandem pmq', 'go defeat viru transform countri better 🇬🇧 buildbackbett', 'becom world leader low cost clean power gener ten year time offshor wind power everi home countri buildbackbett cpc20', 'fall gener govern take opportun transform countri buildbackbett 🇬🇧 tune 1130am watch speech conserv parti confer cpc20', 'brilliant today uk tech compani like octopu ensur continu build back greener pioneer renew energi global lead path net zero whilst creat thousand job', 'teacher gone beyond throughout past month – keep children learn unpreced circumst amp crucial get back school septemb thank hard work dedic worldteachersday', 'elect 2019 chang countri better ’ ’ go buildbackbett cpc20', 'morpeth milton keyn build 40 new hospit across england level nh peopl topclass healthcar local area build back better biggest hospit build programm gener', 'saturday mark start year ’ 𝐂𝐨𝐧𝐬𝐞𝐫𝐯𝐚𝐭𝐢𝐯𝐞 𝐏𝐚𝐫𝐭𝐲 𝐂𝐨𝐧𝐟𝐞𝐫𝐞𝐧𝐜𝐞 watch keynot speaker live channel throughout confer hear go buildbackbett join us cpc20', 'get work togeth continu follow rule download nhscovid19app – togeth fight back viru protect nh save mani live', 'best wish presid trump first ladi hope speedi recoveri coronaviru', 'blackhistorymonth let ’ say thank figur past ’ alway thank black histori histori learn build better futur us ourhistoryourhero', 'togeth fight back viru protect nh save mani live', 'matter impati may fed may becom – one way defeat viru ’ show collect forbear common sens willing make sacrific safeti other', 'labour see viru “ good crisi ” exploit work defeat togeth take countri forward 🇬🇧', 'time fix system – make fundament chang improv outcom output decad come plan transform countri ’ train skill system', 'today ’ launch lifetim skill guarante everybodi get skill train need move forward build back better', 'vital control spread coronaviru keep everyon safe high risk area pleas continu follow guidelin local author 22', 'apolog misspok today north east new rule mean meet peopl differ household social set indoor includ pub restaur home also avoid socialis household outsid 12', 'fantast support bill work friend around world ensur vaccin reach poorest deliv five point plan protect human anoth pandem', 'biodivers loss happen frighten rate must act take care beauti countrysid wildlif', 'yomkippur year differ pandem would like extend best wish jew uk across world g ’ mar chatimah tovah', 'terribl kill sgt matiu ratana croydon friday remind risk polic face today mourn laid live prevent us come harm repres best us npmd20', 'redoubl effort control viru winter pleas recognis given much pandem 2020 queen ’ birthday honour first mani occas thank nation', 'watch address gener assembl', 'morn rais mug covid affect us everi one us know someon whose life affect cancer never import support live diseas macmillancoffeemorn', 'deepest condol go famili friend colleagu polic offic kill croydon last night owe huge debt risk live keep us safe', 'sir harold evan work way local paper becom giant british journal alway rememb expos thalidomid scandal tirelessli campaign behalf affect true pioneer investig journal', 'polic work tirelessli serv commun make street safer often difficult circumst grate vital assist throughout pandem fantast meet today northampton', 'congratul 100th birthday lawrenc goodman huge admir courag dambust display raid nazi million peopl live peac freedom everyth gener achiev', 'fall us everi one us rememb basic – wash hand cover face observ social distanc – follow rule fight back viru shelter economi save mani live', 'make tough decis get viru', 'never histori collect destini collect health depend complet individu behaviour time us summon disciplin resolv spirit togeth carri us', 'updat coronaviru', 'today honour attend servic fought battl britain 80 year ago success luftwaff preserv freedom turn tide second world war never forget braveri sacrific battleofbritain80', 'today visit scientist lead effort develop vaccin world ’ infecti diseas', 'congratul reach second round wealth experi institut reform passion advoc intern cooper free trade wto would excel hand leadership', 'know roshhashanah difficult year without close embrac famili also know jew britain respond vigour ingenu display throughout crisi shana tova may inscrib seal good year', 'best wish friend 70th birthday hope see soon', 'get countri pandem deliv peopl ’ prioriti 🇬🇧 pmq', 'congratul becom japan ’ prime minist hope appoint histor free trade agreement secur last week take alreadi rock solid relationship countri new height おめでとうございます 🇬🇧🇯🇵', 'today honour serv battl britain 80 year ago defend shore world tyranni owe much forgotten battleofbritain80', '’ introduc tougher sentenc danger crimin make public safeti singl import factor crimin justic polici', '’ fantast see 4300 join polic 100000 peopl appli deliv promis recruit 20000 offic make street safer', 'want great futur relationship free trade agreement eu get seek divid us must protect sovereignti integr unit kingdom', '’ spoken pass best wish sincer hope amp famili well', 'bahrain israel ’ decis normalis relat extrem welcom news hope other follow help secur peac middl east', 'peopl afghanistan deserv live peac secur fervent hope today ’ peac talk lead stabl prosper futur urg parti negoti good faith', 'let ’ make eu take threat tabl let ’ get bill back negoti protect countri 🇬🇧', 'need whatev protect rememb wash hand cover face make space handsfacespac', 'uk sign major free trade agreement japan 🇬🇧🇯🇵 congratul took part negoti taken back control trade polici amp continu thrive trade nation outsid eu', 'today rememb die surviv continu griev america ’ darkest day september11', 'believ beat viru long let ’ work togeth follow rule monday socialis group six rememb wash hand cover face make space', 'also honour pay tribut 80000 british soldier fought freedom korean peopl includ 1108 lost live 70th anniversari year must ensur bloodi conflict truli becom forgotten war', 'korea spoke visit seoul ’ impress covid19 command centr learn pioneer approach track trace kept viru check throughout pandem', 'pleasur meet presid moon jaein korea 🇰🇷 discuss share aspir two countri includ trade climat chang region stabil', 'deepli alarm novichok use attempt silenc critic russian state use chemic weapon illeg barbar intern commun must ensur undermin rulesbas system act impun', 'affect primodo scandal ignor decad held fast campaign take immens courag ’ right final voic heard ’ also right govt apologis consid cumberleg review recommend', 'suffer abus relationship know alon go fault help realli escap', 'domest abus bill big step forward ’ essenti seiz opportun go even ’ coauthor paper import maintain govt ’ awar campaign domest abus intervent need', 'today rememb lost live grenfel tower thought bereav amp survivor fight day day ensur tragedi never happen parliament must help love one must forgotten', 'today mark 3 year sinc terror attack manchest arena despic act hatr target youngest societi thought prayer victim love one affect night', 'today mark start mentalhealthawarenessweek ever ’ import look mental wellb much physic health reach expert advic practic support help someon els', 'recognis victori democraci dictatorship freedom fascism liberti tyranni – celebr valu defin nation today veday75 33', 'reflect sacrific made battlefield sea air home – pay tribut rebuilt nation aftermath conflict 23', 'day commemor fought die caus freedom second world war 13', 'uk catalyst multilater cooper 2020 beyond – piec global respons coronaviru', 'delight work champion global programm research type 1 diabet 400000 peopl uk live condit groundbreak medic research develop new treatment find cure', 'thought prayer famili continu receiv treatment hospit horrif viru discrimin anyon get anyon spread pleas stayhomesavel', 'pleasur speak global women ’ forum dubai contribut women busi societi alongsid inspir femal entrepreneur offici around world gwfd2020', '11pm tonight britain leav european union three year final say deliv result 2016 referendum kept faith british peopl', 'nanci astor becam first woman take seat hous common countri democraci chang better proud unveil centenari elect astor100', 'particularli enjoy campaign colleagu week amp way say indyref2 vote 12 decemb', '’ support great candid across uk last coupl week messag doorstep clear british peopl want get brexit done move countri forward voteconserv', 'tonight ’ leadersdeb shown clearli way get brexit done move countri forward back', 'worlddiabetesday ’ support 420 million peopl worldwid live diabet mani vital access insulin ’ come long way tackl diabet work need widen access treatment find cure', 'well done outcom hope today incred proud perform throughout rwc2019 rwcfinal engvrsa🏴\\U000e0067\\U000e0062\\U000e0065\\U000e006e\\U000e0067\\U000e007f', 'im pleas domest abus bill pass second read hous common around 2 million adult victim domest abus year account third violent crime inflict immeasur damag societi', 'sorri see step leader thank youv done parti union last 8 year enjoy welldeserv famili time jen finn', 'continu serv nation interest play part make unit kingdom great countri great futur countri truli work everyon', 'heart polit differ make everi day live peopl countri pmq', 'mani congratul new candid select 🔵 barrow fur 🔵 montgomeryshir 🔵 south cambridgeshir 🔵and totn look forward see elect common', 'mani congratul elect leader need work togeth deliv brexit work whole uk keep jeremi corbyn govern full support back bench', 'time unimagin loss parent worri meet cost child ’ funer children funer fund open today help support griev famili need', 'want send messag import equal parent think make parent leav fairer', 'whether ’ keep us safe save live educ next gener public sector worker deserv pay rise recognit brilliant job daili basi', 'need chang expect ’ alway mother take childcar expens career spoke parent want make parent leav fairer', 'mani congratul two recent select parliamentari candid kensington cardiff north make superb member parliament look forward see green bench', 'recaptur spirit common purpos believ must optimist togeth achiev', 'jeremi corbyn apologis failur deal racism labour parti pmq', 'monday host recept celebr posit opportun showcas work help steer young peopl away violent crime pleasur hear firsthand great work done', 'stand today see modern face ukindia relat worldlead busi cuttingedg technolog indiaday 🇬🇧🇮🇳', 'everi child born potenti make sure ’ unlock allow flourish', 'domest abus take mani form horrif physic violenc coerciv behaviour rob peopl selfesteem freedom right feel safe home immens braveri ’ seen demonstr survivor consist throughout', 'team repres modern britain – play like side world made histori help nation fall love cricket', 'team spoken awe gener come behalf whole countri congratul england ’ world cup winner 🏏', 'uk car industri brilliant opportun lead world design manufactur electr vehicl protect job around countri meet commit netzero emiss 2050', 'alan ture pioneer work mathemat comput scienc play crucial part end second world war fit rememb legaci brilliant contribut lgbt peopl made countri new £50 note', 'well done cwc19final engvsnz', 'best luck team involv begin today liverpool – especi ’ fantast summer women sport ’ sure anoth superb event nwc2019', 'offic tackl injustic use data shine spotlight key injustic hold govern wider societi account provid catalyst last chang', 'great win today – everi england fan enjoy one good luck sunday 🏏 engvau cwc19', 'jeremi corbyn destroy labour parti imagin would countri', 'pleas invit down street yesterday even talk effort end modernslaveri', 'tackl modernslaveri prioriti govern proud progress far home abroad still pleas support new research help end barbar crime 2030', 'come end time offic proud finish way start three year ago – stand thank fantast arm forc best world wish best futur', 'one year remain deepli shock death dawn sturgess result reckless use chemic weapon street countri love one peopl amesburi salisburi thought must difficult day', 'prime minist week alli rest life pride\\u2060 \\u2060prideinlondon\\u2060 \\u2060', 'im pleas western balkan summit poznan poland interest defend enhanc good govern secur region', '’ great news jaguar land rover manufactur rang electr car castl bromwich protect thousand skill job west midland help effort get netzero emiss 2050', 'care passion union certainli underestim scale challeng face optimist futur 🇬🇧', 'fantast result new zealand today cwc19\\u2060 – keep good work best luck semifin 🏏', 'mani congratul lee anderson alreadi passion fight improv local commun make superb member parliament ashfield', 'commiser tonight know inspir million ’ play field well ’ conduct proud lionesses\\u2060 \\u2060', '’ sorri european council mean ’ make pride recept ’ want say', 'best luck semifin match made us proud far nation root even engusa', 'lgbt commun continu fight progress equal uk govern stand proudli alongsid', 'togeth har power state ingenu privat sector deliv prosper opportun peopl across whole countri', 'belat congratul involv look like great initi lot fun', 'good catch fantast match india cwc19\\u2060 \\u2060 trip eu council', 'armedforcesday opportun celebr contribut made serv countri want say thank parent friend famili play part make arm forc best world pride nation', 'uk contribut help fight aid tuberculosi malaria strengthen health system develop countri', 'g20osakasummit commit ensur uk aid spent line pari agreement urg world leader follow uk commit cut greenhous ga emiss netzero 2050', '’ 50 year sinc stonewal riot chang global lgbt right movement forev proud pm countri consist rank among lgbtfriendli place world look forward host pride recept no10 next week', 'need work industri har innov stay ahead threat terrorist use internet g20osakasummit\\u2060', 'turkey key alli friend uk today spoke 🇹🇷 foreign minist discuss need deescal current tension eastern mediterranean conflict nagornokarabakh situat libya', 'today uk 🇬🇧 us alli 🇺🇸 call russia ’ gru carri sustain campaign cynic malici cyber activ olymp paralymp game tokyo pyeongchang', 'number peopl global live extrem poverti fallen one three 1990 less one 10 coronaviru put progress dire risk extrem poverti rise intern collabor end poverti endpovertyday', 'congratul reelect prime minist new zealand ambiti cop26 plan negoti comprehens trade agreement find covid19 vaccin ensur sustain recoveri 🇳🇿amp 🇬🇧 steadfast friend', 'thought peopl conflanssaintehonorin even follow report truli horrif attack uk stand solidar franc time', 'swift respons coronaviru ensur vital aid reach vulner today encourag progress cooper boost food secur girl ’ educ help world buildbackbett', 'uk condemn recent cyber attack stort heart norway ’ democraci yesterday foreign minist søreid discuss share goal includ cyber secur equit access covid19 vaccin amp secur council prioriti', 'oxshott high street andi burley mark sugden check local busi tough time lot custom loyalti appreci govt support amp determin get c19', 'rohingya peopl face horrif brutal 🇬🇧 provid humanitarian aid impos sanction respons violenc uk join us eu un urg the🌍to come togeth stop suffer', 'disappoint elmbridg resid temporari amp necessari curb spread viru need follow new rule avoid stringent restrict later ’ right way protect live mitig econom harm amp get pandem', 'today sanction respons crimin poison novichok uk continu work close intern partner counter russia ’ use chemic weapon', 'director gener confirm syria taken step need come complianc chemic weapon convent world must uphold import treati amp uk take action csp25 chemic weapon use must end', 'commonwealth tackl biggest global challeng covid19 climat chang today chair meet commonwealth foreign minist renew joint commit fight racism', 'indonesia key partner uk southeast asia g20 meet foreign minist discuss trade cooper find vaccin covid19 climat chang amp uk ’ bid dialogu partner statu', '🇬🇧 continu stand freedom journalist report around world uk amp media freedom coalit support global media defenc fund announc fund 44 project help vulner journalists🌍defendmediafreedom', '🇬🇧 elect humanrightscouncil commit promot human right across world demonstr magnitski sanction year commit hold human right abus account', 'sinc covid19 struck number children school soar past 1 billion everi girl right 12 year qualiti educ ’ announc today uk kenya cohost summit next year raiseyourhand', 'equal empow educ want girl everywher end poverti stop child marriag unlock opportun uk lead effort ensur everi girl receiv 12 year qualiti educ dayofthegirl everi day', '🇬🇧 condemn belaru ’ decis expel polish amp lithuanian diplomat complet unjustifi isol belarusian peopl solidar temporarili recal ambassador consult situat belaru', 'thank join tour busi cobham high street hat ingenu local retail adapt covid plenti welcom feedback recognit vital support govt', 'fantast news see world food programm win third biggest donor 🇬🇧 continu support vital work around world save live amp stop starvat covid19', 'congratul hh sheikh mishaal alahm aljab alsabah confirm new crown princ kuwait uk look forward even stronger cooper build friendship two countri', 'appal learn belaru russia ad opposit leader svetlana tikhanovskaya want list excus repress legitim polit dissent', 'amp set ambiti vision futur 🇬🇧🇺🇦 relationship sign polit free trade amp strateg partnership agreement today look forward new era even closer tie countri', 'uk stand shoulder shoulder belaru fight protect human right hold senior belarusian leader account', 'uk amp qatar strong relationship reiter qatar ’ foreign minist amp deputi pm unit commit green recoveri covid19 incl carbon neutral world cup 2022 amp secur progress middl east peac process', '🇬🇧 stand togeth fight chemic weapon follow horrif poison russia continu shirk respons must hold full investig follow opcw find', 'uk 🇬🇧 steadfast support ukrain ’ prosper secur today made clear foreign minist unwav support 🇺🇦 ’ sovereignti amp western aspir peopl', 'welcom london presid ukrain key alli uk 🇬🇧 🇺🇦 trade £15bn last year sign polit free trade amp strateg partnership agreement tomorrow strengthen histor tie two countri', 'togeth colleagu friend 🇨🇦 🇬🇧 call end militari action nagornokarabakh parti conflict must respect ceasefir agreement urgent return negoti tabl', 'alongsid 38 countri today uk took lead stand human right hong kong amp xinjiang call china recognis breadth concern intern commun turn blind eye human right abus', 'stand besid commit help libya chart path peac agre meet today upcom led libya talk import opportun urg parti make', 'great appoint congratul', 'welcom new eu us sanction respons polit repress belaru encourag step hope global partner join 🇬🇧🇺🇸 🇨🇦 hold senior level belarusian leadership account', 'station halfway walton check local busi retail hit hard pandem lot innov busi practic posit appreci govt support', 'posit news suspect monday ’ attack claygat charg due appear court today well done thank hard work effort reassur commun claygat', 'uk fund £500m covax advanc market commit help poorest countri access new vaccin treatment amp test today call intern friend support covax amp ensur access', 'ensur secur stabil collabor global health amp climat chang rang mutual benefici new trade opportun visit vietnam southkorea highlight import deepen partnership two dynam nation', 'seriou challeng covid19 solv intern cooper today ’ commit addit £63m help asean member state tackl health econom effect pandem', 'honour meet vietnames prime minist phuc today attend foreign minist ’ meet – first uk – alongsid asean crucial asia ’ economi secur world recov covid19 two 🇬🇧 top prioriti', 'vietnam ’ economi one asia ’ dynam shown remark resili throughout covid19 crisi renew energi financi servic huge potenti trade invest 🇬🇧 🇻🇳 busi', 'horrifi appal attack claygat thought victim know concern commun polic remain claygat next day reassur resid pleas help enquiri', 'uk forefront covid19 vaccin develop ensur global access vaccin one key prioriti protect peopl around world – someth underlin today ’ vaccin workshop hanoi', 'today cohost virtual unga event amp global access new coronaviru vaccin treatment amp test uk bring togeth intern partner amp health organis ensur countri left behind', 'secur vietnam ’ public support uk join comprehens progress transpacif partnership signific step take ukvietnam econom relationship next level demonstr uk ’ commit valu region', 'vietnam key role play region stabil east asia met earlier today reemphasis uk ’ commit work togeth includ maritim secur myanmar multilater', '10 year sinc uk vietnam sign strateg partnership agreement broaden collabor scienc climat secur deputi prime minist minh look forward next decad deepen tie expand trade opportun', 'sad hear death high amir kuwait sheikh sabah al ahm al jaber al sabah found father gcc contribut mani decad maintain peac stabil region uk 🇬🇧 offer sincer condol kuwait', 'coronaviru threaten revers decad progress includ fight poverti amp tackl climatechang owe futur gener build back better ’ uk fiji rwanda amp eu lead creat better sustain recoveri', 'taken decis action alexand lukashenko nation secur advis chief staff ban travel uk channel money uk bank hold account persecut citizen', 'one asia ’ – world ’ – top economi ’ surpris 🇰🇷 home mani 🇬🇧 busi today ’ british busi recept heard success stori discuss excit new trade amp invest opportun lie ahead', 'strong advoc tackl climat chang great speak former secretari gener ban ki moon today southkorea rais ambit climat approach cop26 netzero', 'fellow g20 member leader indopacif region innov defenc economi want take friendship southkorea next level today foreign minist kang talk boost collabor trade develop region secur', '🇬🇧 🇰🇷 work togeth peac korean peninsula last 70 year today dmz reaffirm uk support south korea ’ effort improv relat north determin push dprk denuclearis', 'uk canada unit call deescal conflict nagornokarabakh region civilian must protect parti must work toward negoti peac settlement osc minsk group full support', 'jewish festiv yomkippur mark commun come togeth wont physic possibl year thought jewish commun across 🇬🇧 amp around 🌍', 'announc today 🇬🇧 give £500m fund covax amc financ mechan ensur access futur coronaviru vaccin wednesday cohost unga event amp critic issu', 'thank \\u2066sarah wait team \\u2066\\u2069 allow use covid secur offic constitu surgeri cab volunt terrif job local help vulner commun covid', 'deepli concern arrest joshua wong anoth exampl hk author target activist chines hk author must respect right freedom peopl hong kong protect joint declar', 'uk recognis result fraudul elect belaru seen evid vote rig human right violat respons must held account trigger independ investig osc', 'world expect china live intern respons ’ today host import debat damag impact nation secur law right freedom peopl hongkong', 'lukashenko ’ secret inaugur minsk today bring disreput rig elect fraud belarusian peopl', 'reliev hear alexey discharg hospit today wish best continu recoveri russia must stop tri distort fact amp conduct full transpar crimin investig mr navalni ’ poison chemic weapon', 'abraham accord vital step toward peac middl east welcom recent progress met uae foreign minist today reiter ukua cooper remain vital tackl share challeng coronaviru climatechang', '🇬🇧 heart un start uphold principl share respons today join world leader mark un ’ 75th anniversari togeth overcom toughest obstacl achiev great thing un75', 'today hersham villag talk small busi c19 challeng lot posit feedback govern support \\u2066\\u2066\\u2069', 'wish jewish commun uk amp around the🌍 happi rosh hashanah jewish commun huge asset countri strongli commit tackl antisemit wish peac happi jewishnewyear', 'real pleasur see us senat today side aisl discuss share 🇬🇧🇺🇸 interest challeng visit washington dc', 'earlier week delight join design dominiqu evan well discuss import new diversitybuiltbritiain coin read', 'comedi club circus festiv region theatr local museum among 588 art cultur organis receiv share £76 million essenti support today read latest cultur recoveri grant hereforcultur', 'seen firsthand contribut made ethnic minor commun britain ’ histori back “ built britain ” campaign request introduc new coin celebr read', 'film amp tv industri support 180000 job contribut £12bn economi annual paus due lack covidrel insur today fix new insur polici help peopl art get back work', '4 final even 23 support jss line larg european economi 🇫🇷 franc 60 70 depend sector 🇩🇪 germani start 60 goe 🇪🇸 spain start 70 drop 50', '3 exampl someon late 20 privat rent manchest work 35 hour minimum wage would still paid tax benefit incom 90', '2 system gener need increas univers credit local hous allow lowest paid peopl see earn go uc increas welfar payment compens', '1 want take moment explain job support scheme compar countri interact uc jss support peopl pay 23 salari mani remain drop earn cover welfar system 90', 'yesterday agre updat action plan g20 partner support global economi coronaviru stabl global environ key recoveri home read plan', '’ let viru take hold blith fall anoth nation springstyl lockdown opposit want without tri everyth possibl first', '’ 🄻🄸🅃🄴🅁🄰🅃🅄🅁🄴 like cambridg lit festiv inspir school children love read yorkshir chariti liverpool ’ longest run literatur festiv read', '’ support 🅃🄷🄴🄰🅃🅁🄴🅂 like 3rd oldest uk host mani wellknown star divers engag audienc london group read', '’ support 🄰🅁🅃 like document work class marginalis live ne england turner contemporari sheffield amp provid time space support artist', '’ back 🄳🄰🄽🄲🄴 powerhous danc develop birmingham ’ tour ballet compani centr danc derbi central termin connect youth danc across black countri', '’ 🄼🅄🅂🄸🄲 award grant close turn temporari bike park music festiv held derbyshir world class concert hall nightclub manchest', 'today cultur recoveri fund award first round fund 1385 organis span theatr danc music award amount £250million help protect art save job see full list hereforcultur', '✅ job support scheme expand close busi ✅ govern pay twothird employe ’ salari protect job ✅ bigger cash grant busi requir close read today ’ announc', '7 today ’ announc significantli strengthen toolkit protect job busi week month come read', '6 smallest busi claim £1300 per month medium size busi – properti worth £15000 £51000 claim £2000 per month larger busi claim £3000 paid two fortnightli instal', '5 ’ also announc second new polici today ’ busi england legal requir close ’ also give cash grant never repaid ’ make grant valuabl ’ previous plan', '4 job support scheme – whether open close busi – open novemb 1st pay grant earli decemb remain open six month ’ review scheme januari', '3 scheme appli busi premis legal requir close includ told oper collect deliveri basi unlik job support scheme open busi ’ ask busi pay employ ni pension contribut', '2 busi close door work one week employ pay two third normal salari £2100 month – uk govern cover cost', '1 ’ announc today ’ expand job support scheme coronaviru restrict legal requir busi premis close region nation uk help pay employe ’ wage', 'peopl concern inaccur report told musician retrain ’ transcript say think musician dont need retrain safe venu need reopen that weve creat £157bn packag protect art', 'freeport creat nation hub trade innov commerc regener commun across uk support job today set detail around creat number new innov freeport read', 'earlier tweet fals suggest thought peopl art retrain find job im grate delet tweet care deepli art £157bn cultur packag one gener world', 'feel like ’ taken enough quizz alreadi seven media interview morn thank mug 👍', 'thank organis event cpc20 today great discuss rang issu even rais smile two easi feat chancellor', 'commit singl prioriti – creat support extend opportun mani peopl read full confer speech cpc20', 'watch conserv parti confer speech live here👇', 'amaz woman akshata lucki count dear famili friend goodby isher aunti miss', '’ grate robert chote complet term chair today leav establish expert independ organis hold us account manag public ’ money', 'im answer user question watch', 'great see return major uk ownership first time two decad today new owner alreadi commit invest £1 billion next three year increas proport ukbas supplier wish best luck', 'get £5000 green home grant voucher save money energi bill make home greener cheaper run whilst support 100k green job across uk winter appli', 'great hear today set plan transform train amp skill system adult without alevel equival qualif offer free fullyfund colleg cours time locat suit read', 'miss last week winter economi plan weve cut key announc singl minut sorri speechwrit also read', 'today ’ measur mark import evolut approach live longer put hold click read winter economi plan', 'follow statement winter economi plan watch live press confer here👇', 'read today winter economi plan take question journalist live 3pm', '6 read detail winter economi plan webpag', 'support 150000 busi protect 24 million job winter 𝐜𝐚𝐧𝐜𝐞𝐥𝐥𝐢𝐧𝐠 𝐭𝐡𝐞 𝐩𝐥𝐚𝐧𝐧𝐞𝐝 𝐢𝐧𝐜𝐫𝐞𝐚𝐬𝐞 𝐢𝐧 𝐕𝐀𝐓 hospit tourism keep lower 5 vat rate march 31st next year', 'million selfassess incom taxpay need extra help also extend outstand tax bill 12 month januari', '2 benefit half million busi – averag turn one £60k payment march 11 payment less £6k', '1 nearli half million busi defer £30 billion vat year payment due one lump sum march instead ’ allow busi 𝐬𝐩𝐫𝐞𝐚𝐝 𝐭𝐡𝐞𝐢𝐫 𝐕𝐀𝐓 𝐛𝐢𝐥𝐥 𝐨𝐯𝐞𝐫 𝟏𝟏 𝐫𝐞𝐩𝐚𝐲𝐦𝐞𝐧𝐭𝐬 interest pay', 'give busi longer appli loan scheme extend deadlin end year start work new successor loan programm set begin januari', '2 mean ✅loan extend six ten year – nearli halv averag monthli repay ✅busi struggl choos make interestonli payment ✅anyon troubl appli suspend repay altogeth six month', '1 bounc back loan given million small busi £38 billion boost surviv pandem give busi time greater flexibl repay loan ’ introduc 𝐏𝐚𝐲 𝐀𝐬 𝐘𝐨𝐮 𝐆𝐫𝐨𝐰', 'throughout crisi ensur pariti employe selfemploy support selfemploy trader winter extend exist selfemploy grant similar term condit new job support scheme', '5 employ retain furlough staff shorter hour claim job support scheme job retent bonu significantli 𝐢𝐧𝐜𝐫𝐞𝐚𝐬𝐞𝐬 𝐭𝐡𝐞 𝐢𝐧𝐜𝐞𝐧𝐭𝐢𝐯𝐞𝐬 𝐭𝐨 𝐛𝐫𝐢𝐧𝐠 𝐛𝐚𝐜𝐤 𝐩𝐫𝐞𝐯𝐢𝐨𝐮𝐬𝐥𝐲𝐟𝐮𝐫𝐥𝐨𝐮𝐠𝐡𝐞𝐝 𝐞𝐦𝐩𝐥𝐨𝐲𝐞𝐞𝐬', '4 run novemb april small amp medium size busi elig appli larger busi turnov fallen busi elig 𝐞𝐯𝐞𝐧 𝐢𝐟 𝐭𝐡𝐞𝐲 𝐡𝐚𝐯𝐞 𝐧𝐨𝐭 𝐩𝐫𝐞𝐯𝐢𝐨𝐮𝐬𝐥𝐲 𝐮𝐬𝐞𝐝 𝐭𝐡𝐞 𝐟𝐮𝐫𝐥𝐨𝐮𝐠𝐡 𝐬𝐜𝐡𝐞𝐦𝐞', '3 govern togeth employ increas peopl ’ wage 𝐜𝐨𝐯𝐞𝐫𝐢𝐧𝐠 𝟐𝟑 𝐨𝐟 𝐭𝐡𝐞 𝐩𝐚𝐲 𝐭𝐡𝐞𝐲 𝐡𝐚𝐯𝐞 𝐥𝐨𝐬𝐭 reduc work hour employe keep job anyon yesterday employ elig', '2 scheme support viabl job 𝐞𝐦𝐩𝐥𝐨𝐲𝐞𝐞𝐬 𝐦𝐮𝐬𝐭 𝐛𝐞 𝐰𝐨𝐫𝐤𝐢𝐧𝐠 𝐚𝐭 𝐥𝐞𝐚𝐬𝐭 𝐚 𝐭𝐡𝐢𝐫𝐝 𝐨𝐟 𝐭𝐡𝐞𝐢𝐫 𝐧𝐨𝐫𝐦𝐚𝐥 𝐡𝐨𝐮𝐫𝐬 paid work normal employ', '1 job support scheme directli support wage peopl work give busi face depress winter demand option keep employe job shorter hour rather make redund', 'watch statement winter economi plan live👇', 'product meet pleas support winter economi plan ahead statement hous common shortli', 'respons coronaviru adapt tomorrow afternoon updat hous common plan continu protect job winter', 'new figur self employ incom support scheme show 693000 claim worth £2 billion made construct industri help countri ’ builder get back work', 'hous sale rise work coach hire kickstart recruit restaur serv green home grant launch plan job 𝐃𝐞𝐥𝐢𝐯𝐞𝐫𝐢𝐧𝐠', 'hous sale rose 156 august follow stamp duti holiday introduc plan job help protect nearli three quarter million job hous sector wider suppli chain read new figur today', 'pleas becom nation gateway kickstart scheme make even easier small busi sign one two kickstart read get start', 'data releas today show busi embrac flexibl furlough help drive recoveri get peopl back work juli nearli million peopl return workplac first time month work part time basi', 'today met g20 counterpart discuss strengthen global econom respons covid19 commit work intern alli support job ensur sustain global econom recoveri read joint statement', 'read', 'half peopl furlough may alreadi return work visit benefit £1000 job retent bonu return staff ’ equal 20 wage subsidi employ cost averag furlough person', 'plan job doubl number work coach year work coach first point contact someon lose job come help make differ appli becom work coach', '🇬🇧 tariff free access uk good 🤝 new protect uk creativ industri 🇯🇵 improv market access uk financi servic histor day sign first trade deal independ nation japan traded read', 'busi england close due local lockdown abl claim £1500 per properti everi three week provid safeti net busi temporarili close door read', 'mark londontechweek held roundtabl yesterday recipi futur fund 650 compani benefit £640 million futurefund invest help grow busi protect job', 'last week launch kickstart scheme thousand place alreadi creat busi countri organis regardless size appli fund click get start', 'great see commit take 1000 kickstart start busi applic', 'protect job need creativ brave tri thing govern ever done want thank everyon restaur owner waiter chef diner embrac eat help help drive econom recoveri']\n"
     ]
    }
   ],
   "source": [
    "print(cleaned_conservative)"
   ]
  },
  {
   "cell_type": "code",
   "execution_count": 15,
   "metadata": {},
   "outputs": [
    {
     "name": "stdout",
     "output_type": "stream",
     "text": [
      "saved tweets to conservative_tweets_preprocessed.txt\n"
     ]
    }
   ],
   "source": [
    "store(cleaned_conservative, \"conservative_tweets_preprocessed.txt\")\n"
   ]
  },
  {
   "cell_type": "code",
   "execution_count": 6,
   "metadata": {},
   "outputs": [],
   "source": [
    "import re\n",
    "from collections import Counter\n",
    "\n",
    "#getting top 10 frequent words\n",
    "def top10(tweets):\n",
    "    list_of_words = []\n",
    "    for tweet in tweets:\n",
    "        words = re.findall(r'\\w+', tweet)\n",
    "        list_of_words.append(words)\n",
    "    flat_list = [item for sublist in list_of_words for item in sublist]\n",
    "\n",
    "    word_counts = Counter(flat_list)\n",
    "    return word_counts.most_common(10)\n",
    "    "
   ]
  },
  {
   "cell_type": "code",
   "execution_count": 18,
   "metadata": {},
   "outputs": [
    {
     "name": "stdout",
     "output_type": "stream",
     "text": [
      "[('today', 1049), ('people', 1000), ('great', 940), ('support', 784), ('get', 730), ('work', 730), ('thank', 702), ('business', 593), ('good', 578), ('year', 562)]\n"
     ]
    }
   ],
   "source": [
    "top10_conservative = top10(cleaned_conservative)\n",
    "print(top10_conservative)"
   ]
  },
  {
   "cell_type": "code",
   "execution_count": 8,
   "metadata": {},
   "outputs": [
    {
     "name": "stdout",
     "output_type": "stream",
     "text": [
      "collecting tweets from @HackneyAbbott\n",
      "Collected 756 tweets from @HackneyAbbott\n",
      "collecting tweets from @Debbie_abrahams\n",
      "Collected 655 tweets from @Debbie_abrahams\n",
      "collecting tweets from @rushanaraali\n",
      "Collected 259 tweets from @rushanaraali\n",
      "collecting tweets from @TahirAliMP\n",
      "Collected 224 tweets from @TahirAliMP\n",
      "collecting tweets from @DrRosena\n",
      "Collected 732 tweets from @DrRosena\n",
      "collecting tweets from @MikeAmesburyMP\n",
      "Collected 231 tweets from @MikeAmesburyMP\n",
      "collecting tweets from @PutneyFleur\n",
      "Collected 726 tweets from @PutneyFleur\n",
      "collecting tweets from @ToniaAntoniazzi\n",
      "Collected 504 tweets from @ToniaAntoniazzi\n",
      "collecting tweets from @JonAshworth\n",
      "Collected 479 tweets from @JonAshworth\n",
      "collecting tweets from @PaulaBarkerMP\n",
      "Collected 400 tweets from @PaulaBarkerMP\n",
      "collecting tweets from @ApsanaBegumMP\n",
      "Collected 495 tweets from @ApsanaBegumMP\n",
      "collecting tweets from @hilarybennmp\n",
      "Collected 445 tweets from @hilarybennmp\n",
      "collecting tweets from @_OliviaBlake\n",
      "Collected 562 tweets from @_OliviaBlake\n",
      "collecting tweets from @PaulBlomfieldMP\n",
      "Collected 784 tweets from @PaulBlomfieldMP\n",
      "collecting tweets from @TracyBrabin\n",
      "Collected 704 tweets from @TracyBrabin\n",
      "collecting tweets from @BenPBradshaw\n",
      "Collected 713 tweets from @BenPBradshaw\n",
      "collecting tweets from @KevinBrennanMP\n",
      "Collected 425 tweets from @KevinBrennanMP\n",
      "collecting tweets from @lynbrownmp\n",
      "Collected 136 tweets from @lynbrownmp\n",
      "All tweets collected for this party: 9230\n"
     ]
    }
   ],
   "source": [
    "labour_tweets = collect_tweets(labour)"
   ]
  },
  {
   "cell_type": "code",
   "execution_count": 21,
   "metadata": {},
   "outputs": [],
   "source": [
    "cleaned_labour = [clean(tweet, 'lemmantization') for tweet in labour_tweets]"
   ]
  },
  {
   "cell_type": "code",
   "execution_count": 19,
   "metadata": {},
   "outputs": [
    {
     "name": "stdout",
     "output_type": "stream",
     "text": [
      "[('government', 1009), ('support', 901), ('people', 851), ('need', 726), ('today', 580), ('thanks', 574), ('please', 520), ('must', 497), ('email', 494), ('health', 481)]\n"
     ]
    }
   ],
   "source": [
    "top10_labour = top10(cleaned_labour)\n",
    "print(top10_labour)"
   ]
  },
  {
   "cell_type": "code",
   "execution_count": 16,
   "metadata": {},
   "outputs": [
    {
     "name": "stdout",
     "output_type": "stream",
     "text": [
      "saved tweets to labour_tweets_preprocessed.txt\n"
     ]
    }
   ],
   "source": [
    "store(cleaned_labour, \"labour_tweets_preprocessed.txt\")\n"
   ]
  },
  {
   "cell_type": "code",
   "execution_count": 24,
   "metadata": {},
   "outputs": [
    {
     "ename": "AttributeError",
     "evalue": "'list' object has no attribute 'elemens'",
     "output_type": "error",
     "traceback": [
      "\u001b[1;31m---------------------------------------------------------------------------\u001b[0m",
      "\u001b[1;31mAttributeError\u001b[0m                            Traceback (most recent call last)",
      "\u001b[1;32m<ipython-input-24-631cbf3de50b>\u001b[0m in \u001b[0;36m<module>\u001b[1;34m\u001b[0m\n\u001b[1;32m----> 1\u001b[1;33m \u001b[0mplot_co_occurence\u001b[0m\u001b[1;33m(\u001b[0m\u001b[0mtop10\u001b[0m\u001b[1;33m(\u001b[0m\u001b[0mcleaned_labour\u001b[0m\u001b[1;33m)\u001b[0m\u001b[1;33m.\u001b[0m\u001b[0melemens\u001b[0m\u001b[1;33m)\u001b[0m\u001b[1;33m\u001b[0m\u001b[1;33m\u001b[0m\u001b[0m\n\u001b[0m",
      "\u001b[1;31mAttributeError\u001b[0m: 'list' object has no attribute 'elemens'"
     ]
    }
   ],
   "source": [
    "plot_co_occurence(top10(cleaned_labour).elemens)"
   ]
  },
  {
   "cell_type": "code",
   "execution_count": 3,
   "metadata": {},
   "outputs": [],
   "source": [
    "def load(filename):\n",
    "    tweet_list = []\n",
    "    with open(filename, 'r') as f:\n",
    "        for tweet in f:\n",
    "            tweet_list.append(tweet.strip())\n",
    "            \n",
    "    print(f\"loaded tweets from {filename}\")\n",
    "    return tweet_list"
   ]
  },
  {
   "cell_type": "code",
   "execution_count": 31,
   "metadata": {},
   "outputs": [
    {
     "name": "stdout",
     "output_type": "stream",
     "text": [
      "loaded tweets from conservative_tweets_preprocessed.txt\n",
      "loaded tweets from labour_tweets_preprocessed.txt\n"
     ]
    }
   ],
   "source": [
    "conservatives_tweets = load(\"conservative_tweets_preprocessed.txt\")\n",
    "labour_tweets = load(\"labour_tweets_preprocessed.txt\")"
   ]
  },
  {
   "cell_type": "code",
   "execution_count": 150,
   "metadata": {},
   "outputs": [
    {
     "name": "stdout",
     "output_type": "stream",
     "text": [
      "Jaccard distance based on TOP10 most frequent words: 0.8888888888888888\n"
     ]
    }
   ],
   "source": [
    "top10_conservative_wordset = set([word[0] for word in top10_conservative])\n",
    "top10_labour_wordset = set([word[0] for word in top10_labour])\n",
    "\n",
    "jaccard_index_top10 = nltk.jaccard_distance(top10_conservative_wordset, top10_labour_wordset)\n",
    "\n",
    "print('Jaccard distance based on TOP10 most frequent words: ' + str(jaccard_index_top10))"
   ]
  },
  {
   "cell_type": "code",
   "execution_count": 9,
   "metadata": {},
   "outputs": [],
   "source": [
    "# Helper function\n",
    "def plot_10_most_common_words(count_data, count_vectorizer):\n",
    "    import matplotlib.pyplot as plt\n",
    "    words = count_vectorizer.get_feature_names()\n",
    "    total_counts = np.zeros(len(words))\n",
    "    for t in count_data:\n",
    "        total_counts+=t.toarray()[0]\n",
    "    \n",
    "    count_dict = (zip(words, total_counts))\n",
    "    count_dict = sorted(count_dict, key=lambda x:x[1], reverse=True)[0:10]\n",
    "    words = [w[0] for w in count_dict]\n",
    "    counts = [w[1] for w in count_dict]\n",
    "    x_pos = np.arange(len(words)) \n",
    "    \n",
    "    plt.figure(2, figsize=(15, 15/1.6180))\n",
    "    plt.subplot(title='10 most common words')\n",
    "    sns.set_context(\"notebook\", font_scale=1.25, rc={\"lines.linewidth\": 2.5})\n",
    "    sns.barplot(x_pos, counts, palette='husl')\n",
    "    plt.xticks(x_pos, words, rotation=90) \n",
    "    plt.xlabel('words')\n",
    "    plt.ylabel('counts')\n",
    "    plt.show()\n",
    "    \n",
    "def print_topics(model, count_vectorizer, n_top_words):\n",
    "    words = count_vectorizer.get_feature_names()\n",
    "    for topic_idx, topic in enumerate(model.components_):\n",
    "        print(\"\\nTopic #%d:\" % topic_idx)\n",
    "        print(\" \".join([words[i] for i in topic.argsort()[:-n_top_words - 1:-1]]))\n",
    "        \n",
    "def get_topic_words(model, count_vectorizer, n_top_words):\n",
    "    words = count_vectorizer.get_feature_names()\n",
    "    topic_words = []\n",
    "    for topic_idx, topic in enumerate(model.components_):\n",
    "        topic_words.extend([words[i]for i in topic.argsort()[:-n_top_words - 1:-1]])\n",
    "    return topic_words"
   ]
  },
  {
   "cell_type": "code",
   "execution_count": 31,
   "metadata": {},
   "outputs": [
    {
     "name": "stdout",
     "output_type": "stream",
     "text": [
      "labour\n"
     ]
    },
    {
     "name": "stderr",
     "output_type": "stream",
     "text": [
      "R:\\Programs\\Anaconda\\envs\\tensor\\lib\\site-packages\\seaborn\\_decorators.py:43: FutureWarning: Pass the following variables as keyword args: x, y. From version 0.12, the only valid positional argument will be `data`, and passing other arguments without an explicit keyword will result in an error or misinterpretation.\n",
      "  FutureWarning\n"
     ]
    },
    {
     "data": {
      "image/png": "[encoded data removed]",
      "text/plain": [
       "<Figure size 1080x667.491 with 1 Axes>"
      ]
     },
     "metadata": {},
     "output_type": "display_data"
    }
   ],
   "source": [
    "import seaborn as sns\n",
    "sns.set_style('whitegrid')\n",
    "\n",
    "# Initialise the count vectorizer with the English stop words\n",
    "count_vectorizer_conservative = CountVectorizer()\n",
    "count_vectorizer_labour = CountVectorizer()\n",
    "# Fit and transform the processed titles\n",
    "count_data_conservative = count_vectorizer_conservative.fit_transform(cleaned_conservative)\n",
    "\n",
    "# Fit and transform the processed titles\n",
    "count_data_labour = count_vectorizer_labour.fit_transform(cleaned_labour)\n",
    "\n",
    "# Visualise the 10 most common words\n",
    "#print(\"conservative\")\n",
    "#plot_10_most_common_words(count_data_conservative, count_vectorizer_conservative)\n",
    "\n",
    "print(\"labour\")\n",
    "plot_10_most_common_words(count_data_labour, count_vectorizer_labour)"
   ]
  },
  {
   "cell_type": "code",
   "execution_count": 10,
   "metadata": {},
   "outputs": [
    {
     "ename": "NameError",
     "evalue": "name 'count_data_conservative' is not defined",
     "output_type": "error",
     "traceback": [
      "\u001b[1;31m---------------------------------------------------------------------------\u001b[0m",
      "\u001b[1;31mNameError\u001b[0m                                 Traceback (most recent call last)",
      "\u001b[1;32m<ipython-input-10-e541e4191823>\u001b[0m in \u001b[0;36m<module>\u001b[1;34m\u001b[0m\n\u001b[0;32m      5\u001b[0m \u001b[1;31m# Create and fit the LDA model\u001b[0m\u001b[1;33m\u001b[0m\u001b[1;33m\u001b[0m\u001b[1;33m\u001b[0m\u001b[0m\n\u001b[0;32m      6\u001b[0m \u001b[0mlda_conservative\u001b[0m \u001b[1;33m=\u001b[0m \u001b[0mLDA\u001b[0m\u001b[1;33m(\u001b[0m\u001b[0mn_components\u001b[0m\u001b[1;33m=\u001b[0m\u001b[0mnumber_topics\u001b[0m\u001b[1;33m,\u001b[0m \u001b[0mn_jobs\u001b[0m\u001b[1;33m=\u001b[0m\u001b[1;33m-\u001b[0m\u001b[1;36m1\u001b[0m\u001b[1;33m)\u001b[0m\u001b[1;33m\u001b[0m\u001b[1;33m\u001b[0m\u001b[0m\n\u001b[1;32m----> 7\u001b[1;33m \u001b[0mlda_conservative\u001b[0m\u001b[1;33m.\u001b[0m\u001b[0mfit\u001b[0m\u001b[1;33m(\u001b[0m\u001b[0mcount_data_conservative\u001b[0m\u001b[1;33m)\u001b[0m\u001b[1;33m\u001b[0m\u001b[1;33m\u001b[0m\u001b[0m\n\u001b[0m\u001b[0;32m      8\u001b[0m \u001b[1;33m\u001b[0m\u001b[0m\n\u001b[0;32m      9\u001b[0m \u001b[1;31m# Print the topics found by the LDA model\u001b[0m\u001b[1;33m\u001b[0m\u001b[1;33m\u001b[0m\u001b[1;33m\u001b[0m\u001b[0m\n",
      "\u001b[1;31mNameError\u001b[0m: name 'count_data_conservative' is not defined"
     ]
    }
   ],
   "source": [
    "# Tweak the two parameters below\n",
    "number_topics = 5\n",
    "number_words = 10\n",
    "\n",
    "# Create and fit the LDA model\n",
    "lda_conservative = LDA(n_components=number_topics, n_jobs=-1)\n",
    "lda_conservative.fit(count_data_conservative)\n",
    "\n",
    "# Print the topics found by the LDA model\n",
    "print(\"Topics found via LDA for conservative tweets:\")\n",
    "print_topics(lda_conservative, count_vectorizer_conservative, number_words)\n",
    "\n",
    "# Create and fit the LDA model\n",
    "lda_labour = LDA(n_components=number_topics, n_jobs=-1)\n",
    "lda_labour.fit(count_data_labour)\n",
    "\n",
    "# Print the topics found by the LDA model\n",
    "print(\"Topics found via LDA for labour tweets:\")\n",
    "print_topics(lda_labour, count_vectorizer_labour, number_words)"
   ]
  },
  {
   "cell_type": "code",
   "execution_count": 6,
   "metadata": {},
   "outputs": [
    {
     "ename": "NameError",
     "evalue": "name 'conservatives_tweets' is not defined",
     "output_type": "error",
     "traceback": [
      "\u001b[1;31m---------------------------------------------------------------------------\u001b[0m",
      "\u001b[1;31mNameError\u001b[0m                                 Traceback (most recent call last)",
      "\u001b[1;32m<ipython-input-6-6dab0c4d57c9>\u001b[0m in \u001b[0;36m<module>\u001b[1;34m\u001b[0m\n\u001b[0;32m      8\u001b[0m \u001b[0mcorpus1\u001b[0m\u001b[1;33m=\u001b[0m \u001b[1;33m[\u001b[0m\u001b[1;33m]\u001b[0m\u001b[1;33m\u001b[0m\u001b[1;33m\u001b[0m\u001b[0m\n\u001b[0;32m      9\u001b[0m \u001b[0mcorpus2\u001b[0m\u001b[1;33m=\u001b[0m \u001b[1;33m[\u001b[0m\u001b[1;33m]\u001b[0m\u001b[1;33m\u001b[0m\u001b[1;33m\u001b[0m\u001b[0m\n\u001b[1;32m---> 10\u001b[1;33m \u001b[1;32mfor\u001b[0m \u001b[0mtweet\u001b[0m \u001b[1;32min\u001b[0m \u001b[0mconservatives_tweets\u001b[0m\u001b[1;33m:\u001b[0m\u001b[1;33m\u001b[0m\u001b[1;33m\u001b[0m\u001b[0m\n\u001b[0m\u001b[0;32m     11\u001b[0m     \u001b[0mcorpus1\u001b[0m\u001b[1;33m.\u001b[0m\u001b[0mappend\u001b[0m\u001b[1;33m(\u001b[0m\u001b[0mtweet\u001b[0m\u001b[1;33m.\u001b[0m\u001b[0msplit\u001b[0m\u001b[1;33m(\u001b[0m\u001b[1;33m)\u001b[0m\u001b[1;33m)\u001b[0m\u001b[1;33m\u001b[0m\u001b[1;33m\u001b[0m\u001b[0m\n\u001b[0;32m     12\u001b[0m \u001b[1;32mfor\u001b[0m \u001b[0mtweet\u001b[0m \u001b[1;32min\u001b[0m \u001b[0mlabour_tweets\u001b[0m\u001b[1;33m:\u001b[0m\u001b[1;33m\u001b[0m\u001b[1;33m\u001b[0m\u001b[0m\n",
      "\u001b[1;31mNameError\u001b[0m: name 'conservatives_tweets' is not defined"
     ]
    }
   ],
   "source": [
    "from sentistrength import PySentiStr\n",
    "senti = PySentiStr()\n",
    "senti.setSentiStrengthPath(os.path.join(os.getcwd(), \"SentiStrength.jar\"))\n",
    "senti.setSentiStrengthLanguageFolderPath(os.path.join(os.getcwd(),'SentiStrengthData/'))\n",
    "# print(os.listdir(os.getcwd()))\n",
    "\n",
    "# print(type(np.asarray(conservative_tweets)))\n",
    "corpus1= []\n",
    "corpus2= []\n",
    "for tweet in conservatives_tweets:\n",
    "    corpus1.append(tweet.split())\n",
    "for tweet in labour_tweets:\n",
    "    corpus2.append(tweet.split())\n",
    "corpus1 = [item for sublist in corpus1 for item in sublist]\n",
    "corpus2 = [item for sublist in corpus2 for item in sublist]\n",
    "conservatives_sentiments = senti.getSentiment(conservative_tweets, score='dual')\n",
    "labour_sentiments  = senti.getSentiment(labour_tweets, score='dual')\n",
    "print(len(conservatives_sentiments))"
   ]
  },
  {
   "cell_type": "code",
   "execution_count": 103,
   "metadata": {},
   "outputs": [
    {
     "name": "stdout",
     "output_type": "stream",
     "text": [
      "[2 2 3 ... 1 2 2]\n"
     ]
    }
   ],
   "source": [
    "# print(np.asarray(labour_sentiments[:9000]).shape[1])\n",
    "positive_negative_array = np.array([])\n",
    "for col in range(np.asarray(labour_sentiments[:9000]).shape[1]):\n",
    "    print(np.asarray(labour_sentiments)[:,col])\n",
    "    \n",
    "print(np.asarray(labour_sentiments)[:, 0])"
   ]
  },
  {
   "cell_type": "code",
   "execution_count": 22,
   "metadata": {},
   "outputs": [
    {
     "name": "stdout",
     "output_type": "stream",
     "text": [
      "[0, 1, 1, -1]\n",
      "[0, 1, 0, -1]\n",
      "positive sentiment value is : (0.8528028654224415, 0.14719713457755845)\n"
     ]
    }
   ],
   "source": [
    "\n",
    "conservatives_sentiments2 = senti.getSentiment(['historic moment', 'pleased hear discharged hospital get well soon', 'need protect job protect livelihood put uk strongest position economic recovery', 'british government must speak violence brutality currently perpetrated innocent citizen state nigeria'])\n",
    "labour_sentiments2  = senti.getSentiment(['historic moment', 'pleased hear discharged hospital get well soon', 'fantastic video mark launch stephenlawrenceday must never forget stephen lawrence family struggle justice please follow see family continuing fight systemic racism', 'british government must speak violence brutality currently perpetrated innocent citizen state nigeria'])\n",
    "print(conservatives_sentiments2)\n",
    "print(labour_sentiments2)\n",
    "\n",
    "pearson_score = pearsonr( np.asarray(conservatives_sentiments2), np.asarray(labour_sentiments2))\n",
    "print(f\"positive sentiment value is : {pearson_score}\")"
   ]
  },
  {
   "cell_type": "code",
   "execution_count": 43,
   "metadata": {
    "scrolled": true
   },
   "outputs": [
    {
     "name": "stdout",
     "output_type": "stream",
     "text": [
      "positive sentiment value is : (0.0023006694492972136, 0.43582204048704626)\n",
      "negative sentiment value is : (0.0022612487804657597, 0.44372667212709666)\n"
     ]
    }
   ],
   "source": [
    "from scipy.stats import pearsonr\n",
    "\n",
    "pearson_score = pearsonr( np.asarray(conservatives_sentiments)[0:9000, 0], np.asarray(labour_sentiments)[:, 0])\n",
    "print(f\"positive sentiment value is : {pearson_score}\")\n",
    "pearson_score = pearsonr( np.asarray(conservatives_sentiments)[0:9000, 1], np.asarray(labour_sentiments)[:, 1])\n",
    "print(f\"negative sentiment value is : {pearson_score}\")"
   ]
  },
  {
   "cell_type": "code",
   "execution_count": 11,
   "metadata": {},
   "outputs": [],
   "source": [
    "#let's preprocess the the gathered docments again for the parser tree tagging\n",
    "def clean2(tweet, method='lemmatization'):\n",
    "    # from https://www.pluralsight.com/guides/building-a-twitter-sentiment-analysis-in-python\n",
    "    tweet = tweet.lower()\n",
    "    \n",
    "    # Remove unicode characters (emotes etc)\n",
    "    tweet = unidecode(tweet)\n",
    "    \n",
    "    # Remove urls\n",
    "    tweet = re.sub(r\"http\\S+|www\\S+|https\\S+\", '', tweet, flags=re.MULTILINE)\n",
    "    # Remove user @ references and '#' from tweet\n",
    "    tweet = re.sub(r'\\@\\w+|\\#','', tweet)\n",
    "    # Remove html encodings like &amp;\n",
    "    tweet = re.sub(r'&\\w+;','', tweet)\n",
    "    # Remove punctuations\n",
    "    tweet = tweet.translate(str.maketrans('', '', string.punctuation))\n",
    "    \n",
    "    # Remove stopwords\n",
    "    tweet_tokens = word_tokenize(tweet)\n",
    "#     filtered_words = [w for w in tweet_tokens if not w in stop_words]\n",
    "    \n",
    "    # use stemmer\n",
    "    if method=='stemming':\n",
    "        ps = PorterStemmer()\n",
    "        stemmed_words = [ps.stem(w) for w in tweet_tokens]\n",
    "    \n",
    "        return \" \".join(stemmed_words)\n",
    "    elif method=='lemmatization':\n",
    "        lemmantizer = WordNetLemmatizer()\n",
    "        lemm_words = [lemmantizer.lemmatize(w) for w in tweet_tokens]\n",
    "        return \" \".join(lemm_words)\n",
    "    else :\n",
    "        print('Error ! please provide a correct method')\n",
    "        \n",
    "cleaned_conservative = [clean2(tweet, method='lemmatization') for tweet in conservatives_tweets]\n",
    "cleaned_labour = [clean2(tweet, method='lemmatization') for tweet in labour_tweets]\n"
   ]
  },
  {
   "cell_type": "code",
   "execution_count": 48,
   "metadata": {},
   "outputs": [],
   "source": [
    "doc1_tokens =[]\n",
    "doc2_tokens =[]\n",
    "for tweet in cleaned_conservative:\n",
    "    doc1_tokens.append(word_tokenize(tweet))\n",
    "    \n",
    "for tweet in cleaned_labour:\n",
    "    doc2_tokens.append(word_tokenize(tweet))\n",
    "doc1_tokens = [item for sublist in doc1_tokens for item in sublist]\n",
    "doc2_tokens = [item for sublist in doc2_tokens for item in sublist]\n",
    "tagged1 = nltk.pos_tag(doc1_tokens)\n",
    "\n"
   ]
  },
  {
   "cell_type": "code",
   "execution_count": 137,
   "metadata": {},
   "outputs": [
    {
     "name": "stdout",
     "output_type": "stream",
     "text": [
      "['PRP$', 'NN', 'IN', 'DT', 'WP', 'RB', 'VBD', 'PRP$', 'NN', 'IN', 'DT', 'NN', 'NN', 'JJ', 'NN', 'IN', 'PRP$', 'NN', 'DT', 'NN']\n"
     ]
    }
   ],
   "source": [
    "print([x[1] for x in tagged1[:20]])"
   ]
  },
  {
   "cell_type": "code",
   "execution_count": 17,
   "metadata": {},
   "outputs": [
    {
     "name": "stdout",
     "output_type": "stream",
     "text": [
      "['we now have a system of mass testing starting in the great city of liverpool which i believe will help this country defeat this virus', 'dependent on the pilot success we will aim to distribute million of these new rapid test between now and christmas and allow local community to drive down transmission in their area', '33', 'these test will help identify the many thousand of people in the city who dont have symptom but who can still infect others without knowing', '23', 'i want to thank liverpool leader for volunteering to join the uk first citywide population testing pilot and the people of liverpool for taking part', '13', 'i am deeply shocked by the terrible attack in vienna tonight', 'the uk thought are with the people of austria we stand united with you against terror', 'for the next four week i must ask the people of this country to come together to protect the nh and to save life', '10 year on from the historic lancaster house treaty the uk defence and security partnership with france is stronger than ever', 'we are neighbour and natural ally and together we work every single day to make the world a safer place', 'we will get through this but we must act now to contain the spread of coronavirus', 'it is my sincere hope and belief that by taking tough action now we can allow family across the country to be together', 'you can read my full statement with further detail on the measure announced today here 1010', 'we will get through this but we must act now to contain the spread of coronavirus', 'while christmas will be very different this year it is my sincere hope and belief that by taking tough action now we can allow family across the country to be together', '910', 'i want to thank the million of people who have been putting up with restriction for so long', 'i know how difficult this ha been for everyone', '810', 'these measure will be timelimited starting next thursday 5 november', 'they will end on wednesday 2 december when we will seek to ease restriction on a local and regional basis according to the latest data and trend', '710', 'i urge parent to continue taking their child to school and am so grateful to teacher for their dedication in enabling school to remain open', '610', 'childcare early year setting school college and university will all remain open', 'our senior clinician still advise that school is the best place for child to be', '510', 'single adult household can still form exclusive support bubble with one other household and child will still be able to move between home if their parent are separated', '410', 'you may leave your home for work for exercise with your household or on your own with one person from another household to shop for food and essential for medical care and to provide care for others', '310', 'we must take action now to protect our nh', 'in england from thursday until the start of december you must stay at home', 'nonessential shop leisure entertainment venue will be closed', 'pub bar restaurant must close except for takeaway and delivery service', '210', 'in this country a across much of europe the virus is spreading even faster than the reasonable worst case scenario of our scientific adviser', 'if we fail to take action then there is a real risk of depriving noncovid patient of the care that they need from the nh 110', 'watch live an update on coronavirus 31 october 2020', 'brilliant news that we have recruited an extra 5824 police officer in the last year', 'were on track to hit our target of 6000 by march 2021 20000 over the next 3 year', 'im committed to keeping our street safe supporting our police is at the heart of that commitment', 'je suis sou le choc dapprendre la nouvelle de lattaque barbare au sein de la basilique notredame a nice', 'no pensees vont aux victimes et a leurs familles et le royaumeuni est aux cote de la france pour lutter contre la terreur et lintolerance', 'i am appalled to hear the news from nice this morning of a barbaric attack at the notredame basilica', 'our thought are with the victim and their family and the uk stand steadfastly with france against terror and intolerance', 'wonderful news that president moon ha committed to reaching netzero by 2050', 'south korea ambitious pledge show clear momentum ahead of i look forward to and working together for our planet', 'my statement on those who tragically lost their life in the channel today', 'great call with my friend this morning', 'whether it boosting trade between great nation or developing cuttingedge technology to tackle climate change the uk and australia are partner in building back better from coronavirus', 'fantastic to visit the royal berkshire hospital with today taking forward her recommendation to improve food in our hospital', 'an important step to improve our longterm health', 'great to see japan commitment to reach netzero by 2050', 'i look forward to working closely with prime minister and to tackle climate change in the run up to in glasgow next year', 'a historic moment a we formally sign the ukjapan comprehensive economic partnership agreement marking a new era of friendship between our nation', 'this will bring extraordinary opportunity to the uk boosting job and prosperity for business and consumer', 'we will not let these difficult time stop u from doing proper honour to those who gave their life for our freedom and safety', 'make sure you buy a poppy this year be it online or at the supermarket to support the family of those who have given so much', 'everypoppycounts', 'brilliant news that there are now 13718 more nurse and 7810 more doctor than a year ago these figure show were on course to keep our manifesto commitment', 'and thank you to the incredible nh staff who are always there for u especially in this difficult time', 'we need to protect job protect livelihood and put the uk in the strongest position for an economic recovery', 'watch live an update on coronavirus 22 october 2020', 'we are wrapping our arm around the country to give people the support they need to get through this', 'thats why is extending the job support scheme giving the selfemployed more assistance expanding business grant to support company in highalert level area', 'keeping active this year ha been challenging for all of u', 'thanks to everyone who is working tirelessly to help run activity sport in these trying time and well done to those who are out there taking part', 'keep going', 'great to meet some of our black service personnel yesterday', 'a reminder during blackhistorymonth that many black briton fighting forwere never recognised for their service', 'black history is our history and britain ha been made all the greater for it', 'watch live an update on coronavirus', '20 october 2020', 'congratulation for winning a second term a new zealand pm', 'from our work together to tackle climate change to forging an exciting new trade partnership the uk and nz have great thing to look forward to in the future', 'over the next few week new rapid covid19 test will be trialled across the country', 'this will enable u to test nh and care home staff much more frequently', 'watch live an update on coronavirus', '16 october 2020', 'my update on our negotiation with the eu', 'good to meet with today', 'i will always support our fantastic farmer who have worked tirelessly during the pandemic to keep our country fed', 'outside the eu we now have the chance to get a better fairer deal for britain food and farming sector', 'were simplifying and standardising local rule in england by introducing three local covid alert level with each level accompanied by proportionate restriction', 'find out the local covid alert level in your area with the postcode checker', 'watch live an update on coronavirus 12 october 2020', 'there is a real risk of a lost generation of girl never returning to school', 'we can not let that happen', 'our global recovery from the pandemic must leave no one behind', 'on dayofthegirl i urge global action to stand up for every girl right to 12 year of quality education', 'today we recognise the local often unsung hero whose hard work and dedication ha helped carry u through this pandemic', 'their care compassion and resolve is truly a testament to the sort of country we are', 'congratulation to all honour recipient', 'we measure our friendship by how they show up in bad weather sir winston churchill let show up for our family our friend our colleague and our community and weather the storm together', 'worldmentalhealthday', 'congratulation to the on winning this year nobel peace prize', 'the uk is proud to support it lifesaving work in fighting hunger and famine worldwide']\n"
     ]
    }
   ],
   "source": [
    "p = [tokenize.sent_tokenize(tweet) for tweet in conservatives_tweets]\n",
    "p = [clean2(tweet, method='lemmatization') for tweet in [item for sublist in p for item in sublist]]\n",
    "while \"\" in p:\n",
    "    p.remove(\"\")\n",
    "print(p[:100])"
   ]
  },
  {
   "cell_type": "code",
   "execution_count": 25,
   "metadata": {},
   "outputs": [
    {
     "name": "stdout",
     "output_type": "stream",
     "text": [
      "10 year on from the historic lancaster house treaty the uk defence and security partnership with france is stronger than ever\n"
     ]
    }
   ],
   "source": [
    "tagged = nltk.pos_tag(p[10])\n",
    "print(p[10])"
   ]
  },
  {
   "cell_type": "code",
   "execution_count": 27,
   "metadata": {},
   "outputs": [],
   "source": [
    "def co_occurent_verbs(corpus, keyword, target=\"VB\")->List[str]:\n",
    "    cooccurenct_words = []\n",
    "    for sentence in corpus:\n",
    "        tokens = word_tokenize(sentence)\n",
    "        if keyword in tokens:\n",
    "            #testing if the senteces contains only one verb\n",
    "            if Counter([x[1] for x in nltk.pos_tag(tokens)]).get(target)==1:\n",
    "                tagged = nltk.pos_tag(tokens)\n",
    "                for e in tagged:\n",
    "                    if e[1]==target:\n",
    "                        cooccurenct_words.append(e[0])\n",
    "#                 for token in tokens:\n",
    "#                     if nltk.pos_tag([token])[0][1]==target:\n",
    "#                         cooccurenct_words.append(token)\n",
    "            elif Counter([x[1] for x in nltk.pos_tag(tokens)]).get(target)!=None and target==\"VB\":\n",
    "                tagged = nltk.pos_tag(tokens)\n",
    "                result = closest_verb(tagged, keyword)\n",
    "                if result !=None:\n",
    "                    cooccurenct_words.append(result)\n",
    "    return cooccurenct_words\n",
    "\n",
    "def closest_verb(tagged, keyword):\n",
    "    verbs = []\n",
    "    words = [x[0] for x in tagged]\n",
    "    index = words.index(keyword)\n",
    "    for n, i in enumerate(words):\n",
    "        if i == keyword:\n",
    "            words[n] = \"null\"\n",
    "            \n",
    "    tags = [x[1] for x in tagged]\n",
    "    verb_indecies = np.where(np.asarray(tags) == \"VB\")[0]\n",
    "\n",
    "    for e in tagged:\n",
    "        if e[1]==\"VB\":\n",
    "            verbs.append(e[0])\n",
    "    records = []\n",
    "    for i in verb_indecies:\n",
    "        records.append((abs(index-i),i))\n",
    "    verb = words[min(records)[1]]\n",
    "    if verb != \"null\":\n",
    "        return(verb)\n",
    "\n",
    "    \n"
   ]
  },
  {
   "cell_type": "code",
   "execution_count": 14,
   "metadata": {},
   "outputs": [],
   "source": [
    "import matplotlib.pyplot as plt \n",
    "\n",
    "def plot_co_occurence(word_frequencies, title=\"most frequent words\"):\n",
    "    items = sorted(word_frequencies.items(), key=lambda item: item[1], reverse=True)[:15]\n",
    "    words = [w[0] for w in items]\n",
    "    counts = [w[1] for w in items]\n",
    "    x_pos = np.arange(len(words)) \n",
    "\n",
    "    plt.figure(2, figsize=(15, 15/1.6180))\n",
    "    plt.subplot(title=title)\n",
    "    sns.set_context(\"notebook\", font_scale=1.25, rc={\"lines.linewidth\": 2.5})\n",
    "    sns.barplot(x_pos, counts, palette='husl')\n",
    "    plt.xticks(x_pos, words, rotation=90) \n",
    "    plt.xlabel('words')\n",
    "    plt.ylabel('counts')\n",
    "    plt.show()"
   ]
  },
  {
   "cell_type": "code",
   "execution_count": 15,
   "metadata": {},
   "outputs": [
    {
     "name": "stdout",
     "output_type": "stream",
     "text": [
      "Counter({'get': 105, 'be': 19, 'deliver': 17, 'see': 6, 'support': 5, 'stop': 5, 'take': 3, 'move': 3, 'block': 3, 'ensure': 3, 'bring': 2, 'make': 2, 'join': 2, 'hear': 2, 'mean': 2, 'remain': 2, 'i': 2, 'lead': 2, 'back': 2, 'tell': 1, 'pas': 1, 'show': 1, 'end': 1, 'leave': 1, 'explain': 1, 'improve': 1, 'build': 1, 's': 1, 'put': 1, 'agree': 1, 'cause': 1, 'change': 1, 'fight': 1, 'use': 1, 'go': 1, 'undermine': 1, 'discus': 1, 'outpace': 1, 'prepare': 1, 'work': 1, 'usher': 1, 'find': 1, 'contradict': 1, 'review': 1, 'recognise': 1, 'stick': 1, 'guide': 1, 'brexit': 1, 'tie': 1, 'promote': 1, 'have': 1, 'reengage': 1, 'look': 1, 'revisit': 1, 'email': 1, 'focus': 1, 'reaffirm': 1, 'celebrate': 1, 'tackle': 1, 'turn': 1, 'secure': 1, 'vote': 1, 'become': 1, 'cost': 1, 'frustrate': 1, 'guarantee': 1, 'do': 1})\n"
     ]
    },
    {
     "name": "stderr",
     "output_type": "stream",
     "text": [
      "R:\\Programs\\Anaconda\\envs\\tensor\\lib\\site-packages\\seaborn\\_decorators.py:43: FutureWarning: Pass the following variables as keyword args: x, y. From version 0.12, the only valid positional argument will be `data`, and passing other arguments without an explicit keyword will result in an error or misinterpretation.\n",
      "  FutureWarning\n"
     ]
    },
    {
     "data": {
      "image/png": "[encoded data removed]",
      "text/plain": [
       "<Figure size 1080x667.491 with 1 Axes>"
      ]
     },
     "metadata": {},
     "output_type": "display_data"
    }
   ],
   "source": [
    "result = Counter(co_occurent_verbs(p, \"brexit\"))     \n",
    "print(result)\n",
    "plot_co_occurence(result, \" most co-occurent verbs\")"
   ]
  },
  {
   "cell_type": "code",
   "execution_count": 29,
   "metadata": {},
   "outputs": [
    {
     "name": "stdout",
     "output_type": "stream",
     "text": [
      "Counter({'conservative': 25, 'british': 10, 'second': 9, 'unleash': 8, 'only': 5, 'brexit': 4, 'nh': 4, 'right': 4, 'whole': 3, 'let': 3, 'clear': 2, 'parliament': 2, 'new': 2, 'uk': 2, 'national': 2, 'good': 2, 'i': 2, 'prime': 2, 'local': 2, 'unite': 2, 'few': 2, 'common': 2, 'hard': 1, 'incredible': 1, 'unfit': 1, 'australian': 1, 'corbyn': 1, 'brighter': 1, 'labour': 1, 'united': 1, 'great': 1, 'white': 1, 'daylong': 1, 'failed': 1, 'financial': 1, 'happy': 1, 'undecided': 1, 'main': 1, 'bad': 1, 'oct': 1, 'further': 1, 'subject': 1, 'tpds': 1, 'pleased': 1, 'last': 1, 'informative': 1, 'sensible': 1, 'contradictory': 1, 'eu': 1, 'toxic': 1, 'thought': 1, 'december': 1, 'future': 1, 'ready': 1, 'precious': 1, 'general': 1, 'simple': 1})\n"
     ]
    },
    {
     "name": "stderr",
     "output_type": "stream",
     "text": [
      "R:\\Programs\\Anaconda\\envs\\tensor\\lib\\site-packages\\seaborn\\_decorators.py:43: FutureWarning: Pass the following variables as keyword args: x, y. From version 0.12, the only valid positional argument will be `data`, and passing other arguments without an explicit keyword will result in an error or misinterpretation.\n",
      "  FutureWarning\n"
     ]
    },
    {
     "data": {
      "image/png": "[encoded data removed]",
      "text/plain": [
       "<Figure size 1080x667.491 with 1 Axes>"
      ]
     },
     "metadata": {},
     "output_type": "display_data"
    }
   ],
   "source": [
    "result = Counter(co_occurent_verbs(p, \"brexit\", \"JJ\"))     \n",
    "print(result)\n",
    "plot_co_occurence(result, \" most co-occurent adjectives\")"
   ]
  },
  {
   "cell_type": "code",
   "execution_count": 28,
   "metadata": {},
   "outputs": [
    {
     "name": "stdout",
     "output_type": "stream",
     "text": [
      "Counter({'back': 14, 'so': 12, 'forward': 7, 'together': 5, 'just': 5, 'now': 5, 'only': 4, 'not': 4, 'here': 3, 'finally': 2, 'actually': 2, 'soon': 2, 'rather': 2, 'still': 2, 'really': 2, 'always': 2, 'ago': 1, 'pm': 1, 'again': 1, 'i': 1, 'invest': 1, 'well': 1, 'tougher': 1, 'sincerely': 1, 'ahead': 1, 'right': 1, 'also': 1, 'selfevidently': 1, 'understandably': 1, 'poorly': 1, 'very': 1, 'exactly': 1, 'too': 1, 'once': 1, 'totally': 1, 'far': 1, 'matter': 1, 'there': 1, 'regardless': 1, 'properly': 1, 'first': 1, 'literally': 1})\n"
     ]
    },
    {
     "name": "stderr",
     "output_type": "stream",
     "text": [
      "R:\\Programs\\Anaconda\\envs\\tensor\\lib\\site-packages\\seaborn\\_decorators.py:43: FutureWarning: Pass the following variables as keyword args: x, y. From version 0.12, the only valid positional argument will be `data`, and passing other arguments without an explicit keyword will result in an error or misinterpretation.\n",
      "  FutureWarning\n"
     ]
    },
    {
     "data": {
      "image/png": "[encoded data removed]",
      "text/plain": [
       "<Figure size 1080x667.491 with 1 Axes>"
      ]
     },
     "metadata": {},
     "output_type": "display_data"
    }
   ],
   "source": [
    "result = Counter(co_occurent_verbs(p, \"brexit\", \"RB\"))     \n",
    "print(result)\n",
    "plot_co_occurence(result, \" most co-occurent verbs\")"
   ]
  },
  {
   "cell_type": "code",
   "execution_count": null,
   "metadata": {},
   "outputs": [],
   "source": [
    "def get_sentiment(all_tweets : List[str])->List[float]:\n",
    "    sentiment_scores = []\n",
    "    for tweet in all_tweets:\n",
    "        blob = TextBlob(tweet)\n",
    "        sentiment_score.append(blob.sentiment.polarity)\n",
    "    return sentiment_scores"
   ]
  },
  {
   "cell_type": "code",
   "execution_count": null,
   "metadata": {},
   "outputs": [],
   "source": []
  }
 ],
 "metadata": {
  "kernelspec": {
   "display_name": "Python 3",
   "language": "python",
   "name": "python3"
  },
  "language_info": {
   "codemirror_mode": {
    "name": "ipython",
    "version": 3
   },
   "file_extension": ".py",
   "mimetype": "text/x-python",
   "name": "python",
   "nbconvert_exporter": "python",
   "pygments_lexer": "ipython3",
   "version": "3.7.4"
  }
 },
 "nbformat": 4,
 "nbformat_minor": 2
}
