{
 "cells": [
  {
   "cell_type": "markdown",
   "metadata": {},
   "source": [
    "Oulu_NLPTM_TwitterBrexit"
   ]
  },
  {
   "cell_type": "code",
   "execution_count": 8,
   "metadata": {},
   "outputs": [],
   "source": [
    "import os\n",
    "import tweepy as tw\n",
    "import pandas as pd\n",
    "\n",
    "import sys\n",
    "sys.path.insert(0, '../config')\n",
    "\n",
    "from twitter_dev_access import *\n"
   ]
  },
  {
   "cell_type": "code",
   "execution_count": 10,
   "metadata": {},
   "outputs": [],
   "source": [
    "# access twitter\n",
    "auth = tw.OAuthHandler(consumer_key, consumer_secret)\n",
    "auth.set_access_token(access_token, access_token_secret)\n",
    "api = tw.API(auth, wait_on_rate_limit=True)\n"
   ]
  },
  {
   "cell_type": "code",
   "execution_count": 18,
   "metadata": {},
   "outputs": [
    {
     "name": "stdout",
     "output_type": "stream",
     "text": [
      "Tweet 0: RT @m_parrington: Incredible view of smoke from the #CreekFire in California from cosmic ray balloons as reported by https://t.co/6lqYJTfEm…\n",
      "Tweet 1: RT @m_parrington: Three years ago ex-hurricane Ophelia, huge Portugal #wildfires &amp; #SaharanDust sent a thick plume of aerosol across much o…\n",
      "Tweet 2: “Every year #wildfires are increasing, yet political parties keep pushing for more land-clearing and extractive pol… https://t.co/kYIvW5HKYP\n",
      "Tweet 3: OMG terrifying. #Captaincovid doesn't want to help CA. #wildfires #forest #fires #VoteBlueDownBallot #VoteBlue… https://t.co/CInpmy31Ur\n",
      "Tweet 4: RT @m_parrington: Three years ago ex-hurricane Ophelia, huge Portugal #wildfires &amp; #SaharanDust sent a thick plume of aerosol across much o…\n"
     ]
    }
   ],
   "source": [
    "# testAPI\n",
    "search_words = \"#wildfires\"\n",
    "date_since = \"2018-11-16\"\n",
    "\n",
    "# Collect tweets\n",
    "tweets = tw.Cursor(api.search, q=search_words, lang=\"en\", since=date_since).items(5)\n",
    "\n",
    "for i, tweet in enumerate(tweets):\n",
    "    print(\"Tweet \" + str(i) + \": \" + tweet.text)"
   ]
  },
  {
   "cell_type": "code",
   "execution_count": null,
   "metadata": {},
   "outputs": [],
   "source": []
  },
  {
   "cell_type": "code",
   "execution_count": null,
   "metadata": {},
   "outputs": [],
   "source": []
  }
 ],
 "metadata": {
  "kernelspec": {
   "display_name": "Python 3",
   "language": "python",
   "name": "python3"
  },
  "language_info": {
   "codemirror_mode": {
    "name": "ipython",
    "version": 3
   },
   "file_extension": ".py",
   "mimetype": "text/x-python",
   "name": "python",
   "nbconvert_exporter": "python",
   "pygments_lexer": "ipython3",
   "version": "3.7.4"
  }
 },
 "nbformat": 4,
 "nbformat_minor": 2
}
