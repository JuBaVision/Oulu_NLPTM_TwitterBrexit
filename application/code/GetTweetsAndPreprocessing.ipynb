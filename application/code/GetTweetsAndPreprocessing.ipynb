{
 "cells": [
  {
   "cell_type": "markdown",
   "metadata": {},
   "source": [
    "Oulu_NLPTM_TwitterBrexit Data Collection and Preprocessing"
   ]
  },
  {
   "cell_type": "code",
   "execution_count": 1,
   "metadata": {},
   "outputs": [
    {
     "name": "stderr",
     "output_type": "stream",
     "text": [
      "[nltk_data] Downloading package stopwords to\n",
      "[nltk_data]     C:\\Users\\Julian\\AppData\\Roaming\\nltk_data...\n",
      "[nltk_data]   Package stopwords is already up-to-date!\n",
      "[nltk_data] Downloading package punkt to\n",
      "[nltk_data]     C:\\Users\\Julian\\AppData\\Roaming\\nltk_data...\n",
      "[nltk_data]   Package punkt is already up-to-date!\n"
     ]
    },
    {
     "data": {
      "text/plain": [
       "True"
      ]
     },
     "execution_count": 1,
     "metadata": {},
     "output_type": "execute_result"
    }
   ],
   "source": [
    "import nltk\n",
    "nltk.download('stopwords')\n",
    "nltk.download('punkt')"
   ]
  },
  {
   "cell_type": "code",
   "execution_count": 2,
   "metadata": {},
   "outputs": [],
   "source": [
    "import os\n",
    "import tweepy as tw\n",
    "\n",
    "import re\n",
    "import string\n",
    "from unidecode import unidecode\n",
    "\n",
    "from nltk.corpus import stopwords\n",
    "from nltk.tokenize import word_tokenize\n",
    "\n",
    "from nltk.stem import PorterStemmer\n",
    "\n",
    "import sys\n",
    "sys.path.insert(0, '../config')\n",
    "\n",
    "from twitter_dev_access import *\n",
    "\n",
    "\n",
    "# Global Parameters\n",
    "stop_words = set(stopwords.words('english'))\n",
    "\n",
    "# amount of tweets collected is tweets_per_page * no_of_pages \n",
    "# note that retweets will be directly removed, but are still considered to this number\n",
    "tweets_per_page = 100 # max 200\n",
    "no_of_pages = 12"
   ]
  },
  {
   "cell_type": "code",
   "execution_count": 3,
   "metadata": {},
   "outputs": [],
   "source": [
    "# access twitter\n",
    "auth = tw.OAuthHandler(consumer_key, consumer_secret)\n",
    "auth.set_access_token(access_token, access_token_secret)\n",
    "api = tw.API(auth, wait_on_rate_limit=True)\n"
   ]
  },
  {
   "cell_type": "code",
   "execution_count": 4,
   "metadata": {},
   "outputs": [],
   "source": [
    "conservatives = ['@BorisJohnson', '@theresa_may']\n",
    "conservative_house_of_commons = ['@nadams', '@BimAfolami', '@AdamAfriyie', '@imranahmadkhan', '@peter_aldous', '@lucyallan', '@amessd_southend', '@Stuart4WolvesSW', '@Caroline_Ansell', '@AthertonNWales', '@GarethBaconMP', '@richardbaconmp', '@KemiBadenoch', '@ShaunBaileyUK', '@Siobhan_Baillie']\n",
    "conservatives.extend(conservative_house_of_commons)\n",
    "labour = ['@HackneyAbbott', '@Debbie_abrahams', '@rushanaraali', '@TahirAliMP', '@DrRosena', '@MikeAmesburyMP', '@PutneyFleur', '@ToniaAntoniazzi', '@JonAshworth', '@PaulaBarkerMP', '@ApsanaBegumMP', '@hilarybennmp', '@_OliviaBlake', '@PaulBlomfieldMP', '@TracyBrabin', '@BenPBradshaw', '@KevinBrennanMP', '@lynbrownmp']"
   ]
  },
  {
   "cell_type": "code",
   "execution_count": 5,
   "metadata": {},
   "outputs": [],
   "source": [
    "def collect_tweets(twitterusers):\n",
    "    tweet_list = []\n",
    "\n",
    "    for n, twitter_name in enumerate(twitterusers):\n",
    "        # get tweets for user, exlude retweets and get full tweet content\n",
    "        pages = tw.Cursor(api.user_timeline, screen_name=twitter_name, include_rts=False, tweet_mode=\"extended\", count=tweets_per_page).pages(no_of_pages)\n",
    "        \n",
    "        # get tweets from pages\n",
    "        tweet_texts = [tweet.full_text for page in pages for tweet in page][:1000]\n",
    "\n",
    "        print('(' + str(n+1) + '/' + str(len(twitterusers)) + ') Collected ' + str(len(tweet_texts)) + ' tweets from ' + twitter_name)\n",
    "\n",
    "        # only add newest 100 tweets to tweet list\n",
    "        tweet_list.extend(tweet_texts)\n",
    "    \n",
    "    print('All tweets collected for this party: '+ str(len(tweet_list)))\n",
    "    \n",
    "    return tweet_list"
   ]
  },
  {
   "cell_type": "code",
   "execution_count": 6,
   "metadata": {},
   "outputs": [],
   "source": [
    "def clean(tweet):\n",
    "    # from https://www.pluralsight.com/guides/building-a-twitter-sentiment-analysis-in-python\n",
    "    tweet = tweet.lower()\n",
    "    \n",
    "    # Remove unicode characters (emotes etc)\n",
    "    tweet = unidecode(tweet)\n",
    "    \n",
    "    # Remove urls\n",
    "    tweet = re.sub(r\"http\\S+|www\\S+|https\\S+\", '', tweet, flags=re.MULTILINE)\n",
    "    # Remove user @ references and '#' from tweet\n",
    "    tweet = re.sub(r'\\@\\w+|\\#','', tweet)\n",
    "    # Remove html encodings like &amp;\n",
    "    tweet = re.sub(r'&\\w+;','', tweet)\n",
    "    # Remove punctuations\n",
    "    tweet = tweet.translate(str.maketrans('', '', string.punctuation))\n",
    "    \n",
    "    # Remove stopwords\n",
    "    tweet_tokens = word_tokenize(tweet)\n",
    "    filtered_words = [w for w in tweet_tokens if not w in stop_words]\n",
    "    \n",
    "    # use stemmer\n",
    "    ps = PorterStemmer()\n",
    "    stemmed_words = [ps.stem(w) for w in filtered_words]\n",
    "    \n",
    "    return \" \".join(stemmed_words)\n",
    "    "
   ]
  },
  {
   "cell_type": "code",
   "execution_count": 7,
   "metadata": {},
   "outputs": [],
   "source": [
    "def store(tweet_list, filename):\n",
    "    with open(filename, 'w') as f:\n",
    "        for tweet in tweet_list:\n",
    "            f.write(\"%s\\n\" % tweet)\n",
    "    print(f\"saved tweets to {filename}\")"
   ]
  },
  {
   "cell_type": "code",
   "execution_count": 8,
   "metadata": {},
   "outputs": [
    {
     "name": "stdout",
     "output_type": "stream",
     "text": [
      "(1/17) Collected 863 tweets from @BorisJohnson\n",
      "(2/17) Collected 682 tweets from @theresa_may\n",
      "(3/17) Collected 665 tweets from @nadams\n",
      "(4/17) Collected 320 tweets from @BimAfolami\n",
      "(5/17) Collected 1000 tweets from @AdamAfriyie\n",
      "(6/17) Collected 373 tweets from @imranahmadkhan\n",
      "(7/17) Collected 817 tweets from @peter_aldous\n",
      "(8/17) Collected 684 tweets from @lucyallan\n",
      "(9/17) Collected 998 tweets from @amessd_southend\n",
      "(10/17) Collected 653 tweets from @Stuart4WolvesSW\n",
      "(11/17) Collected 570 tweets from @Caroline_Ansell\n",
      "(12/17) Collected 878 tweets from @AthertonNWales\n",
      "(13/17) Collected 247 tweets from @GarethBaconMP\n",
      "(14/17) Collected 23 tweets from @richardbaconmp\n",
      "(15/17) Collected 471 tweets from @KemiBadenoch\n",
      "(16/17) Collected 939 tweets from @ShaunBaileyUK\n",
      "(17/17) Collected 430 tweets from @Siobhan_Baillie\n",
      "All tweets collected for this party: 10613\n"
     ]
    }
   ],
   "source": [
    "conservatives_tweets = collect_tweets(conservatives)"
   ]
  },
  {
   "cell_type": "code",
   "execution_count": 9,
   "metadata": {},
   "outputs": [],
   "source": [
    "cleaned_conservative = [clean(tweet) for tweet in conservatives_tweets]"
   ]
  },
  {
   "cell_type": "code",
   "execution_count": 10,
   "metadata": {},
   "outputs": [
    {
     "name": "stdout",
     "output_type": "stream",
     "text": [
      "saved tweets to conservative_tweets_preprocessed.txt\n"
     ]
    }
   ],
   "source": [
    "store(cleaned_conservative, \"conservative_tweets_preprocessed.txt\")"
   ]
  },
  {
   "cell_type": "code",
   "execution_count": 11,
   "metadata": {},
   "outputs": [
    {
     "name": "stdout",
     "output_type": "stream",
     "text": [
      "(1/18) Collected 747 tweets from @HackneyAbbott\n",
      "(2/18) Collected 633 tweets from @Debbie_abrahams\n",
      "(3/18) Collected 248 tweets from @rushanaraali\n",
      "(4/18) Collected 217 tweets from @TahirAliMP\n",
      "(5/18) Collected 725 tweets from @DrRosena\n",
      "(6/18) Collected 212 tweets from @MikeAmesburyMP\n",
      "(7/18) Collected 715 tweets from @PutneyFleur\n",
      "(8/18) Collected 488 tweets from @ToniaAntoniazzi\n",
      "(9/18) Collected 488 tweets from @JonAshworth\n",
      "(10/18) Collected 402 tweets from @PaulaBarkerMP\n",
      "(11/18) Collected 475 tweets from @ApsanaBegumMP\n",
      "(12/18) Collected 457 tweets from @hilarybennmp\n",
      "(13/18) Collected 558 tweets from @_OliviaBlake\n",
      "(14/18) Collected 788 tweets from @PaulBlomfieldMP\n",
      "(15/18) Collected 660 tweets from @TracyBrabin\n",
      "(16/18) Collected 693 tweets from @BenPBradshaw\n",
      "(17/18) Collected 397 tweets from @KevinBrennanMP\n",
      "(18/18) Collected 101 tweets from @lynbrownmp\n",
      "All tweets collected for this party: 9004\n"
     ]
    }
   ],
   "source": [
    "labour_tweets = collect_tweets(labour)"
   ]
  },
  {
   "cell_type": "code",
   "execution_count": 12,
   "metadata": {},
   "outputs": [],
   "source": [
    "cleaned_labour = [clean(tweet) for tweet in labour_tweets]"
   ]
  },
  {
   "cell_type": "code",
   "execution_count": 13,
   "metadata": {},
   "outputs": [
    {
     "name": "stdout",
     "output_type": "stream",
     "text": [
      "saved tweets to labour_tweets_preprocessed.txt\n"
     ]
    }
   ],
   "source": [
    "store(cleaned_labour, \"labour_tweets_preprocessed.txt\")"
   ]
  },
  {
   "cell_type": "code",
   "execution_count": null,
   "metadata": {},
   "outputs": [],
   "source": []
  },
  {
   "cell_type": "code",
   "execution_count": null,
   "metadata": {},
   "outputs": [],
   "source": []
  },
  {
   "cell_type": "code",
   "execution_count": null,
   "metadata": {},
   "outputs": [],
   "source": []
  },
  {
   "cell_type": "code",
   "execution_count": null,
   "metadata": {},
   "outputs": [],
   "source": []
  },
  {
   "cell_type": "code",
   "execution_count": null,
   "metadata": {},
   "outputs": [],
   "source": []
  }
 ],
 "metadata": {
  "kernelspec": {
   "display_name": "Python 3",
   "language": "python",
   "name": "python3"
  },
  "language_info": {
   "codemirror_mode": {
    "name": "ipython",
    "version": 3
   },
   "file_extension": ".py",
   "mimetype": "text/x-python",
   "name": "python",
   "nbconvert_exporter": "python",
   "pygments_lexer": "ipython3",
   "version": "3.7.4"
  }
 },
 "nbformat": 4,
 "nbformat_minor": 2
}
