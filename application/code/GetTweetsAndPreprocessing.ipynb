{
 "cells": [
  {
   "cell_type": "markdown",
   "metadata": {},
   "source": [
    "Oulu_NLPTM_TwitterBrexit"
   ]
  },
  {
   "cell_type": "code",
   "execution_count": null,
   "metadata": {},
   "outputs": [],
   "source": [
    "import nltk\n",
    "nltk.download('stopwords')\n",
    "nltk.download('punkt')"
   ]
  },
  {
   "cell_type": "code",
   "execution_count": null,
   "metadata": {},
   "outputs": [],
   "source": [
    "import os\n",
    "import tweepy as tw\n",
    "import pandas as pd\n",
    "\n",
    "import re\n",
    "import string\n",
    "\n",
    "from nltk.corpus import stopwords\n",
    "from nltk.tokenize import word_tokenize\n",
    "\n",
    "from nltk.stem import PorterStemmer\n",
    "\n",
    "import sys\n",
    "sys.path.insert(0, '../config')\n",
    "\n",
    "from twitter_dev_access import *\n",
    "\n",
    "\n",
    "# Global Parameters\n",
    "stop_words = set(stopwords.words('english'))"
   ]
  },
  {
   "cell_type": "code",
   "execution_count": null,
   "metadata": {},
   "outputs": [],
   "source": [
    "# access twitter\n",
    "auth = tw.OAuthHandler(consumer_key, consumer_secret)\n",
    "auth.set_access_token(access_token, access_token_secret)\n",
    "api = tw.API(auth, wait_on_rate_limit=True)\n"
   ]
  },
  {
   "cell_type": "code",
   "execution_count": null,
   "metadata": {},
   "outputs": [],
   "source": [
    "conservatives = ['@BorisJohnson', '@theresa_may']\n",
    "labour = ['@Keir_Starmer']"
   ]
  },
  {
   "cell_type": "code",
   "execution_count": null,
   "metadata": {},
   "outputs": [],
   "source": [
    "def collect_tweets(twitterusers):\n",
    "    tweet_list = []\n",
    "\n",
    "    for twitter_name in twitterusers:\n",
    "        print('collecting tweets from ' + twitter_name)\n",
    "        \n",
    "        # get tweets for user, exlude retweets and get full tweet content\n",
    "        pages = tw.Cursor(api.user_timeline, screen_name=twitter_name, include_rts=False, tweet_mode=\"extended\", count=5).pages(1)\n",
    "        \n",
    "        # get tweets from pages\n",
    "        tweet_texts = [tweet.full_text for page in pages for tweet in page]\n",
    "\n",
    "        print('Collected ' + str(len(tweet_texts)) + ' tweets from ' + twitter_name)\n",
    "\n",
    "        # only add newest 100 tweets to tweet list\n",
    "        tweet_list.extend(tweet_texts[:1000])\n",
    "    \n",
    "    print('All tweets collected for this party: '+ str(len(tweet_list)))\n",
    "    \n",
    "    return tweet_list"
   ]
  },
  {
   "cell_type": "code",
   "execution_count": null,
   "metadata": {},
   "outputs": [],
   "source": [
    "def clean(tweet):\n",
    "    # from https://www.pluralsight.com/guides/building-a-twitter-sentiment-analysis-in-python\n",
    "    tweet.lower()\n",
    "    # Remove urls\n",
    "    tweet = re.sub(r\"http\\S+|www\\S+|https\\S+\", '', tweet, flags=re.MULTILINE)\n",
    "    # Remove user @ references and '#' from tweet\n",
    "    tweet = re.sub(r'\\@\\w+|\\#','', tweet)\n",
    "    # Remove punctuations\n",
    "    tweet = tweet.translate(str.maketrans('', '', string.punctuation))\n",
    "    # Remove stopwords\n",
    "    tweet_tokens = word_tokenize(tweet)\n",
    "    filtered_words = [w for w in tweet_tokens if not w in stop_words]\n",
    "    \n",
    "    # use stemmer\n",
    "    ps = PorterStemmer()\n",
    "    stemmed_words = [ps.stem(w) for w in filtered_words]\n",
    "    \n",
    "    return \" \".join(stemmed_words)\n",
    "    "
   ]
  },
  {
   "cell_type": "code",
   "execution_count": null,
   "metadata": {},
   "outputs": [],
   "source": [
    "conservatives_tweets = collect_tweets(conservatives)"
   ]
  },
  {
   "cell_type": "code",
   "execution_count": null,
   "metadata": {},
   "outputs": [],
   "source": [
    "cleaned_conservative = [clean(tweet) for tweet in conservatives_tweets]"
   ]
  },
  {
   "cell_type": "code",
   "execution_count": null,
   "metadata": {},
   "outputs": [],
   "source": [
    "print(conservatives_tweets)\n",
    "print(cleaned_conservative)"
   ]
  },
  {
   "cell_type": "code",
   "execution_count": null,
   "metadata": {},
   "outputs": [],
   "source": []
  },
  {
   "cell_type": "code",
   "execution_count": null,
   "metadata": {},
   "outputs": [],
   "source": []
  },
  {
   "cell_type": "code",
   "execution_count": null,
   "metadata": {},
   "outputs": [],
   "source": [
    "conservative_tweets = []\n",
    "\n",
    "for twitter_name in conservatives:\n",
    "    print('collecting tweets from ' + twitter_name)\n",
    "    pages = tw.Cursor(api.user_timeline, screen_name=twitter_name, include_rts=False, tweet_mode=\"extended\", count=200).pages(12)\n",
    "    \n",
    "    tweet_texts = [clean(tweet.full_text) for page in pages for tweet in page]\n",
    "    \n",
    "    print('Collected ' + str(len(tweet_texts)) + ' tweets from ' + twitter_name)\n",
    "    \n",
    "    conservative_tweets.extend(tweet_texts)\n",
    "    \n",
    "print('All tweets collected from conservative politicians: '+ str(len(conservative_tweets)))"
   ]
  },
  {
   "cell_type": "code",
   "execution_count": null,
   "metadata": {},
   "outputs": [],
   "source": [
    "labour_tweets = []\n",
    "\n",
    "for twitter_name in labour:\n",
    "    print('collecting tweets from ' + twitter_name)\n",
    "    pages = tw.Cursor(api.user_timeline, screen_name=twitter_name, tweet_mode=\"extended\", count=200).pages(5)\n",
    "    \n",
    "    tweet_texts = [tweet.full_text for page in pages for tweet in page]\n",
    "    \n",
    "    print('Collected ' + str(len(tweet_texts)) + ' tweets from ' + twitter_name)\n",
    "    \n",
    "    labour_tweets.extend(tweet_texts)\n",
    "    \n",
    "print('All tweets collected from labour politicians: '+ str(len(labour_tweets)))"
   ]
  },
  {
   "cell_type": "code",
   "execution_count": null,
   "metadata": {},
   "outputs": [],
   "source": [
    "for tweet in conservative_tweets:\n",
    "    print(tweet)"
   ]
  },
  {
   "cell_type": "code",
   "execution_count": null,
   "metadata": {},
   "outputs": [],
   "source": []
  },
  {
   "cell_type": "code",
   "execution_count": null,
   "metadata": {},
   "outputs": [],
   "source": []
  },
  {
   "cell_type": "code",
   "execution_count": null,
   "metadata": {},
   "outputs": [],
   "source": []
  }
 ],
 "metadata": {
  "kernelspec": {
   "display_name": "Python 3",
   "language": "python",
   "name": "python3"
  },
  "language_info": {
   "codemirror_mode": {
    "name": "ipython",
    "version": 3
   },
   "file_extension": ".py",
   "mimetype": "text/x-python",
   "name": "python",
   "nbconvert_exporter": "python",
   "pygments_lexer": "ipython3",
   "version": "3.7.4"
  }
 },
 "nbformat": 4,
 "nbformat_minor": 2
}
