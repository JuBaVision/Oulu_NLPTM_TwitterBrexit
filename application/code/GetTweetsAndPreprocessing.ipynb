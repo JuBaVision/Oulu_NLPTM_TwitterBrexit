{
 "cells": [
  {
   "cell_type": "markdown",
   "metadata": {},
   "source": [
    "Oulu_NLPTM_TwitterBrexit"
   ]
  },
  {
   "cell_type": "code",
   "execution_count": null,
   "metadata": {},
   "outputs": [],
   "source": [
    "import os\n",
    "import tweepy as tw\n",
    "import pandas as pd\n",
    "\n",
    "import sys\n",
    "sys.path.insert(0, '../config')\n",
    "\n",
    "from twitter_dev_access import *\n"
   ]
  },
  {
   "cell_type": "code",
   "execution_count": null,
   "metadata": {},
   "outputs": [],
   "source": [
    "# access twitter\n",
    "auth = tw.OAuthHandler(consumer_key, consumer_secret)\n",
    "auth.set_access_token(access_token, access_token_secret)\n",
    "api = tw.API(auth, wait_on_rate_limit=True)\n"
   ]
  },
  {
   "cell_type": "code",
   "execution_count": null,
   "metadata": {},
   "outputs": [],
   "source": [
    "conservatives = ['@BorisJohnson', '@theresa_may']\n",
    "labour = ['@Keir_Starmer']"
   ]
  },
  {
   "cell_type": "code",
   "execution_count": null,
   "metadata": {},
   "outputs": [],
   "source": []
  },
  {
   "cell_type": "code",
   "execution_count": null,
   "metadata": {},
   "outputs": [],
   "source": [
    "conservative_tweets = []\n",
    "\n",
    "for twitter_name in conservatives:\n",
    "    print('collecting tweets from ' + twitter_name)\n",
    "    pages = tw.Cursor(api.user_timeline, screen_name=twitter_name, tweet_mode=\"extended\", count=10).pages(2)\n",
    "    \n",
    "    tweet_texts = [tweet.full_text for page in pages for tweet in page]\n",
    "    \n",
    "    print('Collected ' + str(len(tweet_texts)) + ' tweets from ' + twitter_name)\n",
    "    \n",
    "    conservative_tweets.extend(tweet_texts)\n",
    "    \n",
    "print('All tweets collected from conservative politicians: '+ str(len(conservative_tweets)))\n",
    "\n",
    "with open('conservative_tweets.txt', 'w', encoding=\"utf-8\") as filehandle:\n",
    "    for tweet in conservative_tweets:\n",
    "        filehandle.write('%s\\n' % tweet)"
   ]
  },
  {
   "cell_type": "code",
   "execution_count": null,
   "metadata": {},
   "outputs": [],
   "source": [
    "labour_tweets = []\n",
    "\n",
    "for twitter_name in labour:\n",
    "    print('collecting tweets from ' + twitter_name)\n",
    "    pages = tw.Cursor(api.user_timeline, screen_name=twitter_name, tweet_mode=\"extended\", count=200).pages(5)\n",
    "    \n",
    "    tweet_texts = [tweet.full_text for page in pages for tweet in page]\n",
    "    \n",
    "    print('Collected ' + str(len(tweet_texts)) + ' tweets from ' + twitter_name)\n",
    "    \n",
    "    labour_tweets.extend(tweet_texts)\n",
    "    \n",
    "print('All tweets collected from labour politicians: '+ str(len(labour_tweets)))"
   ]
  },
  {
   "cell_type": "code",
   "execution_count": null,
   "metadata": {},
   "outputs": [],
   "source": []
  },
  {
   "cell_type": "code",
   "execution_count": null,
   "metadata": {},
   "outputs": [],
   "source": []
  },
  {
   "cell_type": "code",
   "execution_count": null,
   "metadata": {},
   "outputs": [],
   "source": []
  },
  {
   "cell_type": "code",
   "execution_count": null,
   "metadata": {},
   "outputs": [],
   "source": []
  }
 ],
 "metadata": {
  "kernelspec": {
   "display_name": "Python 3",
   "language": "python",
   "name": "python3"
  },
  "language_info": {
   "codemirror_mode": {
    "name": "ipython",
    "version": 3
   },
   "file_extension": ".py",
   "mimetype": "text/x-python",
   "name": "python",
   "nbconvert_exporter": "python",
   "pygments_lexer": "ipython3",
   "version": "3.7.4"
  }
 },
 "nbformat": 4,
 "nbformat_minor": 2
}
